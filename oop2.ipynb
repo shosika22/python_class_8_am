{
 "cells": [
  {
   "cell_type": "code",
   "execution_count": 4,
   "id": "eb9c96a0",
   "metadata": {},
   "outputs": [
    {
     "name": "stdout",
     "output_type": "stream",
     "text": [
      "Ram\n",
      "34\n",
      "kathmandu\n"
     ]
    }
   ],
   "source": [
    " class Info:                                # yo sabai poila gareko public member ho\n",
    "        def __init__(self):\n",
    "            self.name = \"Ram\"\n",
    "            self.age = 34\n",
    "            self.add = \"kathmandu\"\n",
    "            \n",
    "obj = Info()\n",
    "print(obj.name)\n",
    "print(obj.age)\n",
    "print(obj.add)"
   ]
  },
  {
   "cell_type": "code",
   "execution_count": 6,
   "id": "2249d77b",
   "metadata": {},
   "outputs": [
    {
     "name": "stdout",
     "output_type": "stream",
     "text": [
      "Ram\n",
      "34\n",
      "kathmandu\n"
     ]
    }
   ],
   "source": [
    " #protected member \n",
    "class Info:\n",
    "    def __init__(self):\n",
    "            self._name = \"Ram\"\n",
    "            self._age = 34\n",
    "            self._add = \"kathmandu\"\n",
    "            \n",
    "obj = Info()\n",
    "print(obj._name)\n",
    "print(obj._age)\n",
    "print(obj._add)"
   ]
  },
  {
   "cell_type": "code",
   "execution_count": 8,
   "id": "15a36d95",
   "metadata": {},
   "outputs": [],
   "source": [
    "# #private member \n",
    "# class Info:\n",
    "#     def __init__(self):                        #yesto code m ERROR AAUXA\n",
    "#             self.__name = \"Ram\"\n",
    "#             self.__age = 34\n",
    "#             self.__add = \"kathmandu\"    \n",
    "            \n",
    "# obj = Info()\n",
    "# print(obj.__name)\n",
    "# print(obj.__age)\n",
    "# print(obj.__add)"
   ]
  },
  {
   "cell_type": "code",
   "execution_count": null,
   "id": "336703f1",
   "metadata": {},
   "outputs": [],
   "source": [
    "# private member \n",
    "class Info:\n",
    "    def __init__(self):                      \n",
    "        self.__name = \"Ram\"                       #public\n",
    "        self.__age = 34                           #protected\n",
    "        self.__add = \"kathmandu\"                   #private\n",
    "\n",
    "    def data(self):\n",
    "        print(f\"hello world i am {self.name}. i am from {self.add}. i am {self.age}\")\n",
    "        \n",
    "class Info(Data):\n",
    "    def info(self):\n",
    "        print(f\"Hello world i am {self._name}. I am {self._age})"
   ]
  },
  {
   "cell_type": "code",
   "execution_count": null,
   "id": "eae0ca55",
   "metadata": {},
   "outputs": [],
   "source": [
    " private member \n",
    "class Info:\n",
    "    def __init__(self):                      \n",
    "        self.name = \"Ram\"                       #public\n",
    "        self._age = 34                           #protected\n",
    "        self.__add = \"kathmandu\"                 #private\n",
    "        \n",
    "    def my_add(self):\n",
    "        return self.__add\n",
    "    \n",
    "    def data(self):\n",
    "         print(f\"hello world i am {self.name}. i am from{self._add}. i am {self.__age}\")\n",
    "            \n",
    "    def info(data):\n",
    "       \n",
    "        \n",
    "class Info(Data):\n",
    "    def info(self):\n",
    "        print(f\"Hello world i am {self._name}. I am {self._age})"
   ]
  },
  {
   "cell_type": "code",
   "execution_count": 14,
   "id": "42a725cb",
   "metadata": {},
   "outputs": [
    {
     "name": "stdout",
     "output_type": "stream",
     "text": [
      "ram\n",
      "ram\n",
      "ram\n"
     ]
    }
   ],
   "source": [
    "#str method\n",
    "class Info:\n",
    "    def __init__(self):\n",
    "        self.name = \"ram\"\n",
    "        self.age = 45\n",
    "        self.add = \"kathmandu\"         # it only returns string int return garna ni poila string banaunu parxa\n",
    "    def __str__(self):\n",
    "        return str(self.name)\n",
    "    \n",
    "obj = Info()\n",
    "print(obj)\n",
    "print(str(obj))               #obj convert to string\n",
    "print(obj.__str__())"
   ]
  },
  {
   "cell_type": "code",
   "execution_count": null,
   "id": "934fb95f",
   "metadata": {},
   "outputs": [],
   "source": [
    "#str method\n",
    "class Info:\n",
    "    def __init__(self):\n",
    "        self.name = \"ram\"\n",
    "        self.age = 45\n",
    "        self.add = \"kathmandu\"         # it only returns string int return garna ni poila string banaunu parxa\n",
    "    def __str__(self):\n",
    "        return self.name\n",
    "    \n",
    "obj = Info()\n",
    "print(obj)"
   ]
  },
  {
   "cell_type": "code",
   "execution_count": 13,
   "id": "5d9b2aaf",
   "metadata": {},
   "outputs": [
    {
     "data": {
      "text/plain": [
       "__main__.Info"
      ]
     },
     "execution_count": 13,
     "metadata": {},
     "output_type": "execute_result"
    }
   ],
   "source": [
    "type(obj)"
   ]
  },
  {
   "cell_type": "code",
   "execution_count": null,
   "id": "c2a55825",
   "metadata": {},
   "outputs": [],
   "source": [
    "# public, protected, private"
   ]
  },
  {
   "cell_type": "code",
   "execution_count": 5,
   "id": "835ed369",
   "metadata": {},
   "outputs": [
    {
     "name": "stdout",
     "output_type": "stream",
     "text": [
      "Ram\n",
      "34\n",
      "Kathmandu\n"
     ]
    }
   ],
   "source": [
    "#public member\n",
    "class Info:\n",
    "    def __init__(self):\n",
    "        self.name = \"Ram\"\n",
    "        self.age = 34\n",
    "        self.add = \"Kathmandu\"\n",
    "\n",
    "obj = Info()\n",
    "print(obj.name)\n",
    "print(obj.age)\n",
    "print(obj.add)"
   ]
  },
  {
   "cell_type": "code",
   "execution_count": 6,
   "id": "84dce656",
   "metadata": {},
   "outputs": [
    {
     "name": "stdout",
     "output_type": "stream",
     "text": [
      "Ram\n",
      "34\n",
      "Kathmandu\n"
     ]
    }
   ],
   "source": [
    "#protected member\n",
    "class Info:\n",
    "    def __init__(self):\n",
    "        self._name = \"Ram\"\n",
    "        self._age = 34\n",
    "        self._add = \"Kathmandu\"\n",
    "\n",
    "obj = Info()\n",
    "print(obj._name)\n",
    "print(obj._age)\n",
    "print(obj._add)"
   ]
  },
  {
   "cell_type": "code",
   "execution_count": 8,
   "id": "9dd15cd3",
   "metadata": {},
   "outputs": [
    {
     "ename": "AttributeError",
     "evalue": "'Info' object has no attribute '__name'",
     "output_type": "error",
     "traceback": [
      "\u001b[1;31m---------------------------------------------------------------------------\u001b[0m",
      "\u001b[1;31mAttributeError\u001b[0m                            Traceback (most recent call last)",
      "Cell \u001b[1;32mIn[8], line 9\u001b[0m\n\u001b[0;32m      6\u001b[0m         \u001b[38;5;28mself\u001b[39m\u001b[38;5;241m.\u001b[39m__add \u001b[38;5;241m=\u001b[39m \u001b[38;5;124m\"\u001b[39m\u001b[38;5;124mKathmandu\u001b[39m\u001b[38;5;124m\"\u001b[39m\n\u001b[0;32m      8\u001b[0m obj \u001b[38;5;241m=\u001b[39m Info()\n\u001b[1;32m----> 9\u001b[0m \u001b[38;5;28mprint\u001b[39m(\u001b[43mobj\u001b[49m\u001b[38;5;241;43m.\u001b[39;49m\u001b[43m__name\u001b[49m)\n\u001b[0;32m     10\u001b[0m \u001b[38;5;28mprint\u001b[39m(obj\u001b[38;5;241m.\u001b[39m__age)\n\u001b[0;32m     11\u001b[0m \u001b[38;5;28mprint\u001b[39m(obj\u001b[38;5;241m.\u001b[39m__add)\n",
      "\u001b[1;31mAttributeError\u001b[0m: 'Info' object has no attribute '__name'"
     ]
    }
   ],
   "source": [
    "# private members\n",
    "class Info:\n",
    "    def __init__(self):\n",
    "        self.__name = \"Ram\"\n",
    "        self.__age = 34\n",
    "        self.__add = \"Kathmandu\"\n",
    "\n",
    "obj = Info()\n",
    "print(obj.__name)\n",
    "print(obj.__age)\n",
    "print(obj.__add)"
   ]
  },
  {
   "cell_type": "code",
   "execution_count": 9,
   "id": "3411fe96",
   "metadata": {},
   "outputs": [
    {
     "name": "stdout",
     "output_type": "stream",
     "text": [
      "Hello World I am Ram. I am 34\n",
      "Hello World I am Ram. I am from Kathmandu. I am 34\n",
      "Ram\n"
     ]
    }
   ],
   "source": [
    "class Data:\n",
    "    def __init__(self):\n",
    "        self.name = \"Ram\"          #public\n",
    "        self._age = 34             #protected\n",
    "        self.__add = \"Kathmandu\"   #private\n",
    "        \n",
    "    def data(self):\n",
    "        print(f\"Hello World I am {self.name}. I am from {self.__add}. I am {self._age}\")\n",
    "        \n",
    "class Info(Data):\n",
    "    def info(self):\n",
    "        print(f\"Hello World I am {self.name}. I am {self._age}\")\n",
    "\n",
    "obj = Info()\n",
    "obj.info()\n",
    "obj.data()\n",
    "print(obj.name)"
   ]
  },
  {
   "cell_type": "code",
   "execution_count": 10,
   "id": "7b4a366c",
   "metadata": {},
   "outputs": [
    {
     "name": "stdout",
     "output_type": "stream",
     "text": [
      "Hello World I am Ram. I am Kathmandu. I am 34\n",
      "Hello World I am Ram. I am from Kathmandu. I am 34\n",
      "Ram\n"
     ]
    }
   ],
   "source": [
    "class Data:\n",
    "    def __init__(self):\n",
    "        self.name = \"Ram\"          #public\n",
    "        self._age = 34             #protected\n",
    "        self.__add = \"Kathmandu\"   #private\n",
    "        \n",
    "    def my_add(self):\n",
    "        return self.__add\n",
    "        \n",
    "    def data(self):\n",
    "        print(f\"Hello World I am {self.name}. I am from {self.__add}. I am {self._age}\")\n",
    "        \n",
    "class Info(Data):\n",
    "    def info(self):\n",
    "        print(f\"Hello World I am {self.name}. I am {super().my_add()}. I am {self._age}\")\n",
    "        #super().my_add()\n",
    "\n",
    "obj = Info()\n",
    "obj.info()\n",
    "obj.data()\n",
    "print(obj.name)"
   ]
  },
  {
   "cell_type": "code",
   "execution_count": 11,
   "id": "53fef8b3",
   "metadata": {},
   "outputs": [
    {
     "name": "stdout",
     "output_type": "stream",
     "text": [
      "Parrot can fly\n",
      "Penguin can't fly\n",
      "Parrot can't swim\n",
      "Penguin can swim\n"
     ]
    }
   ],
   "source": [
    "class Parrot:\n",
    "    def fly(self):\n",
    "        print(\"Parrot can fly\")\n",
    "    def swim(self):\n",
    "        print(\"Parrot can't swim\")\n",
    "        \n",
    "class Penguin:\n",
    "    def fly(self):\n",
    "        print(\"Penguin can't fly\")\n",
    "    def swim(self):\n",
    "        print(\"Penguin can swim\")\n",
    "        \n",
    "# common interface\n",
    "def flying_test(bird):\n",
    "    bird.fly()\n",
    "    \n",
    "def swim_test(bird):\n",
    "    bird.swim()\n",
    "    \n",
    "#instantiate objects\n",
    "\n",
    "blu = Parrot()\n",
    "peggy = Penguin()\n",
    "# passing the object\n",
    "flying_test(blu)\n",
    "flying_test(peggy)\n",
    "\n",
    "swim_test(blu)\n",
    "swim_test(peggy)"
   ]
  },
  {
   "cell_type": "code",
   "execution_count": 12,
   "id": "b9bd0f22",
   "metadata": {},
   "outputs": [
    {
     "name": "stdout",
     "output_type": "stream",
     "text": [
      "Ram\n",
      "Ram\n",
      "Ram\n"
     ]
    }
   ],
   "source": [
    "# str method\n",
    "class Info:\n",
    "    def __init__(self):\n",
    "        self.name = \"Ram\"\n",
    "        self.age = 45\n",
    "        self.add = \"Kathmandu\"\n",
    "    def __str__(self):           #only returns string\n",
    "        return str(self.name)\n",
    "\n",
    "obj = Info()\n",
    "print(obj)\n",
    "print(str(obj))   #obj converted to string\n",
    "print(obj.__str__())"
   ]
  },
  {
   "cell_type": "code",
   "execution_count": 13,
   "id": "ea235464",
   "metadata": {},
   "outputs": [
    {
     "name": "stdout",
     "output_type": "stream",
     "text": [
      "1,5\n"
     ]
    }
   ],
   "source": [
    "# operator overloading\n",
    "class Point:\n",
    "    def __init__(self, x = 0, y = 0):\n",
    "        self.x = x\n",
    "        self.y = y\n",
    "    \n",
    "    def __str__(self):\n",
    "        return f\"{self.x},{self.y}\"\n",
    "    \n",
    "    def __add__(self,other):\n",
    "        x = self.x + other.x\n",
    "        y = self.y + other.y\n",
    "        return Point(x,y)\n",
    "        \n",
    "p1 = Point(2,3)\n",
    "p2 = Point(-1,2)\n",
    "print(p1 + p2)"
   ]
  },
  {
   "cell_type": "code",
   "execution_count": 14,
   "id": "7ecad38b",
   "metadata": {},
   "outputs": [
    {
     "name": "stdout",
     "output_type": "stream",
     "text": [
      "This is init method  1000\n",
      "This is init method  1500\n",
      "This is init method  2000\n",
      "This is add method  2500\n",
      "This is init method  2500\n",
      "This is add method  4500\n",
      "This is init method  4500\n",
      "This is str method  4500\n",
      "4500\n"
     ]
    }
   ],
   "source": [
    "# operator overloading\n",
    "class Point:\n",
    "    def __init__(self, x = 0):\n",
    "        self.x = x\n",
    "        print(\"This is init method \",self.x)\n",
    "    \n",
    "    def __str__(self):\n",
    "        print(\"This is str method \",self.x)\n",
    "        return f\"{self.x}\"\n",
    "    \n",
    "    def __add__(self,other):\n",
    "        x = self.x + other.x\n",
    "        print(\"This is add method \",x)\n",
    "        return Point(x)\n",
    "        \n",
    "p1 = Point(1000)\n",
    "p2 = Point(1500)\n",
    "p3 = Point(2000)\n",
    "print(p1 + p2 + p3)"
   ]
  },
  {
   "cell_type": "code",
   "execution_count": null,
   "id": "16f684fa",
   "metadata": {},
   "outputs": [],
   "source": []
  }
 ],
 "metadata": {
  "kernelspec": {
   "display_name": "Python 3 (ipykernel)",
   "language": "python",
   "name": "python3"
  },
  "language_info": {
   "codemirror_mode": {
    "name": "ipython",
    "version": 3
   },
   "file_extension": ".py",
   "mimetype": "text/x-python",
   "name": "python",
   "nbconvert_exporter": "python",
   "pygments_lexer": "ipython3",
   "version": "3.10.9"
  }
 },
 "nbformat": 4,
 "nbformat_minor": 5
}
