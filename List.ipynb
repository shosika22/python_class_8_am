{
 "cells": [
  {
   "cell_type": "code",
   "execution_count": 1,
   "id": "3deee875",
   "metadata": {},
   "outputs": [],
   "source": [
    "# python colllection\n",
    "#list\n",
    "#tuple\n",
    "#set\n",
    "#dict"
   ]
  },
  {
   "cell_type": "code",
   "execution_count": null,
   "id": "2d43b620",
   "metadata": {},
   "outputs": [],
   "source": [
    "#List\n",
    "#multiple and "
   ]
  },
  {
   "cell_type": "code",
   "execution_count": 2,
   "id": "ffc4bbf9",
   "metadata": {},
   "outputs": [],
   "source": [
    "a= list()\n",
    "b =[]\n"
   ]
  },
  {
   "cell_type": "code",
   "execution_count": 3,
   "id": "8c9fea70",
   "metadata": {},
   "outputs": [
    {
     "name": "stdout",
     "output_type": "stream",
     "text": [
      "<class 'list'>\n",
      "<class 'list'>\n"
     ]
    }
   ],
   "source": [
    "a =[\"apple\",\"ball\",\"cat\",\"dog\",\"fish\",\"apple\"]\n",
    "b =[0,1,2,3,4,5,6,7,8,9,0]\n",
    "print (type(a))\n",
    "print(type(b))"
   ]
  },
  {
   "cell_type": "code",
   "execution_count": 4,
   "id": "239b269f",
   "metadata": {},
   "outputs": [
    {
     "name": "stdout",
     "output_type": "stream",
     "text": [
      "apple\n",
      "['apple', 'ball', 'cat', 'dog', 'fish']\n",
      "['apple', 'cat', 'fish']\n"
     ]
    }
   ],
   "source": [
    "a =[\"apple\",\"ball\",\"cat\",\"dog\",\"fish\",\"apple\"]\n",
    "print(a[0])\n",
    "print(a[0:5])\n",
    "print(a[0:5:2])"
   ]
  },
  {
   "cell_type": "code",
   "execution_count": 5,
   "id": "c3e59133",
   "metadata": {},
   "outputs": [
    {
     "name": "stdout",
     "output_type": "stream",
     "text": [
      "[1, 2, 3, 4, 5, 6, 7, 8, 9]\n"
     ]
    }
   ],
   "source": [
    "a =[1,2,3,4,5,]\n",
    "b=[6,7,8,9]\n",
    "c =a +b\n",
    "print(c)"
   ]
  },
  {
   "cell_type": "code",
   "execution_count": 6,
   "id": "51b04e37",
   "metadata": {},
   "outputs": [
    {
     "name": "stdout",
     "output_type": "stream",
     "text": [
      "[1, 2, 3, 4, 5, 1, 2, 3, 4, 5]\n"
     ]
    }
   ],
   "source": [
    "a =[1,2,3,4,5]\n",
    "print(a* 2)"
   ]
  },
  {
   "cell_type": "code",
   "execution_count": 7,
   "id": "2f2fe123",
   "metadata": {},
   "outputs": [],
   "source": [
    "#list ma chai append() insert() extend() vanne function hunxan"
   ]
  },
  {
   "cell_type": "code",
   "execution_count": 8,
   "id": "42fdbb56",
   "metadata": {},
   "outputs": [
    {
     "name": "stdout",
     "output_type": "stream",
     "text": [
      "['apple', 'ball']\n"
     ]
    }
   ],
   "source": [
    "a =[]\n",
    "a.append(\"apple\")\n",
    "a.append(\"ball\")\n",
    "print(a)"
   ]
  },
  {
   "cell_type": "code",
   "execution_count": 11,
   "id": "4206fc24",
   "metadata": {},
   "outputs": [
    {
     "name": "stdout",
     "output_type": "stream",
     "text": [
      "enter  n =\n"
     ]
    },
    {
     "ename": "ValueError",
     "evalue": "invalid literal for int() with base 10: ''",
     "output_type": "error",
     "traceback": [
      "\u001b[1;31m---------------------------------------------------------------------------\u001b[0m",
      "\u001b[1;31mValueError\u001b[0m                                Traceback (most recent call last)",
      "Cell \u001b[1;32mIn[11], line 2\u001b[0m\n\u001b[0;32m      1\u001b[0m l \u001b[38;5;241m=\u001b[39m[]\n\u001b[1;32m----> 2\u001b[0m n \u001b[38;5;241m=\u001b[39m \u001b[38;5;28;43mint\u001b[39;49m\u001b[43m(\u001b[49m\u001b[38;5;28;43minput\u001b[39;49m\u001b[43m(\u001b[49m\u001b[38;5;124;43m\"\u001b[39;49m\u001b[38;5;124;43menter  n =\u001b[39;49m\u001b[38;5;124;43m\"\u001b[39;49m\u001b[43m)\u001b[49m\u001b[43m)\u001b[49m\n\u001b[0;32m      3\u001b[0m \u001b[38;5;28;01mfor\u001b[39;00m i \u001b[38;5;129;01min\u001b[39;00m \u001b[38;5;28mrange\u001b[39m(n):\n\u001b[0;32m      4\u001b[0m     x \u001b[38;5;241m=\u001b[39m \u001b[38;5;28mint\u001b[39m(\u001b[38;5;28minput\u001b[39m(\u001b[38;5;124m\"\u001b[39m\u001b[38;5;124menter x =\u001b[39m\u001b[38;5;124m\"\u001b[39m))\n",
      "\u001b[1;31mValueError\u001b[0m: invalid literal for int() with base 10: ''"
     ]
    }
   ],
   "source": [
    "l =[]\n",
    "n = int(input(\"enter  n =\"))\n",
    "for i in range(n):\n",
    "    x = int(input(\"enter x =\"))\n",
    "    l.append(x)\n",
    "    \n",
    "print(l)"
   ]
  },
  {
   "cell_type": "code",
   "execution_count": 2,
   "id": "44cb1263",
   "metadata": {},
   "outputs": [
    {
     "ename": "NameError",
     "evalue": "name 'l' is not defined",
     "output_type": "error",
     "traceback": [
      "\u001b[1;31m---------------------------------------------------------------------------\u001b[0m",
      "\u001b[1;31mNameError\u001b[0m                                 Traceback (most recent call last)",
      "Cell \u001b[1;32mIn[2], line 1\u001b[0m\n\u001b[1;32m----> 1\u001b[0m \u001b[38;5;28mprint\u001b[39m(\u001b[38;5;124m\"\u001b[39m\u001b[38;5;124mmin value =\u001b[39m\u001b[38;5;124m\"\u001b[39m,\u001b[38;5;28mmin\u001b[39m(\u001b[43ml\u001b[49m))\n\u001b[0;32m      2\u001b[0m \u001b[38;5;28mprint\u001b[39m(\u001b[38;5;124m\"\u001b[39m\u001b[38;5;124mmax value = \u001b[39m\u001b[38;5;124m\"\u001b[39m, \u001b[38;5;28mmax\u001b[39m(l))\n\u001b[0;32m      3\u001b[0m \u001b[38;5;28mprint\u001b[39m(\u001b[38;5;124m\"\u001b[39m\u001b[38;5;124msum value=\u001b[39m\u001b[38;5;124m\"\u001b[39m,\u001b[38;5;28msum\u001b[39m(l))\n",
      "\u001b[1;31mNameError\u001b[0m: name 'l' is not defined"
     ]
    }
   ],
   "source": [
    "print(\"min value =\",min(l))\n",
    "print(\"max value = \", max(l))\n",
    "print(\"sum value=\",sum(l))\n",
    "l.sort()\n",
    "print(l)\n",
    "l.reverse()\n",
    "print(l)"
   ]
  },
  {
   "cell_type": "code",
   "execution_count": null,
   "id": "757128e6",
   "metadata": {},
   "outputs": [],
   "source": [
    "l = []\n",
    "n = int(input(\"enter n =\"))\n",
    "for i in range(n):\n",
    "    x =input(\"enter x =\")\n",
    "    l.append(x)\n"
   ]
  },
  {
   "cell_type": "code",
   "execution_count": 14,
   "id": "145fd523",
   "metadata": {},
   "outputs": [
    {
     "name": "stdout",
     "output_type": "stream",
     "text": [
      "['shosika', 'sunita', 'gita', 'shova', 'subash']\n"
     ]
    }
   ],
   "source": [
    "print(l)"
   ]
  },
  {
   "cell_type": "code",
   "execution_count": 15,
   "id": "bfae36bb",
   "metadata": {},
   "outputs": [
    {
     "name": "stdout",
     "output_type": "stream",
     "text": [
      "['gita', 'shosika', 'shova', 'subash', 'sunita']\n"
     ]
    }
   ],
   "source": [
    "l.sort()\n",
    "print(l)"
   ]
  },
  {
   "cell_type": "code",
   "execution_count": 19,
   "id": "e5fed2e8",
   "metadata": {},
   "outputs": [
    {
     "data": {
      "text/plain": [
       "['gita', 'harry', 'hari', 'sita', 'ram', 'shyam']"
      ]
     },
     "execution_count": 19,
     "metadata": {},
     "output_type": "execute_result"
    }
   ],
   "source": [
    "#insert()\n",
    "a =['gita','hari','sita','ram','shyam']   \n",
    "a.insert(1,\"harry\")\n",
    "a"
   ]
  },
  {
   "cell_type": "code",
   "execution_count": 17,
   "id": "f3b01d93",
   "metadata": {},
   "outputs": [
    {
     "name": "stdout",
     "output_type": "stream",
     "text": [
      "['gita', 'hari', 'sita', 'ram', 'shyam', 1, 2, 3, 4, 5]\n"
     ]
    }
   ],
   "source": [
    "a =['gita','hari','sita','ram','shyam']\n",
    "b =[1,2,3,4,5]\n",
    "a.extend(b)\n",
    "print(a)"
   ]
  },
  {
   "cell_type": "code",
   "execution_count": 22,
   "id": "4006572b",
   "metadata": {},
   "outputs": [
    {
     "data": {
      "text/plain": [
       "['nita', 'hari', 'gita', 'ram', 'shyam']"
      ]
     },
     "execution_count": 22,
     "metadata": {},
     "output_type": "execute_result"
    }
   ],
   "source": [
    "#update\n",
    "a =[\"gita\",'hari','gita','ram','shyam']\n",
    "a[0] ='nita'\n",
    "a"
   ]
  },
  {
   "cell_type": "code",
   "execution_count": 23,
   "id": "cb96dc0e",
   "metadata": {},
   "outputs": [
    {
     "data": {
      "text/plain": [
       "['jack', 'john', 'sita', 'ram', 'shyam']"
      ]
     },
     "execution_count": 23,
     "metadata": {},
     "output_type": "execute_result"
    }
   ],
   "source": [
    "a =['gita','hari','sita','ram','shyam']\n",
    "a [0:2]=['jack','john']\n",
    "a"
   ]
  },
  {
   "cell_type": "code",
   "execution_count": 28,
   "id": "b13b8599",
   "metadata": {},
   "outputs": [
    {
     "data": {
      "text/plain": [
       "['gita', 'payment', 'bill', 'hari', 'sita', 'ram', 'shyam']"
      ]
     },
     "execution_count": 28,
     "metadata": {},
     "output_type": "execute_result"
    }
   ],
   "source": [
    "#insert multiple values inside certain index\n",
    "a =['gita','hari','sita','ram','shyam']\n",
    "a[1:1] =[\"payment\",\"bill\"]\n",
    "a\n"
   ]
  },
  {
   "cell_type": "code",
   "execution_count": 30,
   "id": "f3a9be32",
   "metadata": {},
   "outputs": [
    {
     "name": "stdout",
     "output_type": "stream",
     "text": [
      "['hari', 'sita', 'ram', 'shyam']\n"
     ]
    }
   ],
   "source": [
    "#for delete del remove() pop()\n",
    "a =['gita','hari','sita','ram','shyam']\n",
    "del a[0]\n",
    "print(a)"
   ]
  },
  {
   "cell_type": "code",
   "execution_count": 33,
   "id": "d5e2a163",
   "metadata": {},
   "outputs": [
    {
     "name": "stdout",
     "output_type": "stream",
     "text": [
      "['sita', 'ram', 'shyam']\n"
     ]
    }
   ],
   "source": [
    "a =['gita','hari','sita','ram','shyam']\n",
    "del a[0:2]\n",
    "print(a)"
   ]
  },
  {
   "cell_type": "code",
   "execution_count": 34,
   "id": "7e24d647",
   "metadata": {},
   "outputs": [
    {
     "data": {
      "text/plain": [
       "['hari', 'sita', 'ram', 'shyam']"
      ]
     },
     "execution_count": 34,
     "metadata": {},
     "output_type": "execute_result"
    }
   ],
   "source": [
    "a =['gita','hari','sita','ram','shyam']\n",
    "a.remove('gita')\n",
    "a"
   ]
  },
  {
   "cell_type": "code",
   "execution_count": 37,
   "id": "0a986cf8",
   "metadata": {},
   "outputs": [
    {
     "name": "stdout",
     "output_type": "stream",
     "text": [
      "['gita', 'sita', 'ram', 'shyam']\n"
     ]
    }
   ],
   "source": [
    "a =['gita','hari','sita','ram','shyam']\n",
    "a.pop(1)\n",
    "print(a)"
   ]
  },
  {
   "cell_type": "code",
   "execution_count": 38,
   "id": "f05adb13",
   "metadata": {},
   "outputs": [
    {
     "name": "stdout",
     "output_type": "stream",
     "text": [
      "['gita', 'sita', 'ram', 'shyam']\n",
      "hari\n"
     ]
    }
   ],
   "source": [
    "a =['gita','hari','sita','ram','shyam']\n",
    "b =a.pop(1)\n",
    "print(a)\n",
    "print(b)"
   ]
  },
  {
   "cell_type": "code",
   "execution_count": 39,
   "id": "fdfacce8",
   "metadata": {},
   "outputs": [
    {
     "name": "stdout",
     "output_type": "stream",
     "text": [
      "gita\n",
      "hari\n",
      "sita\n",
      "ram\n",
      "shyam\n"
     ]
    }
   ],
   "source": [
    " #for using loop in list\n",
    "a =['gita','hari','sita','ram','shyam']\n",
    "for i in a:\n",
    "    print(i)"
   ]
  },
  {
   "cell_type": "code",
   "execution_count": 40,
   "id": "b938c40e",
   "metadata": {},
   "outputs": [
    {
     "data": {
      "text/plain": [
       "5"
      ]
     },
     "execution_count": 40,
     "metadata": {},
     "output_type": "execute_result"
    }
   ],
   "source": [
    "a =['gita','hari','sita','ram','shyam'] #index chai  0 bata count hunxa  count chai 1 bata start hunxa\n",
    "l = len(a)\n",
    "l"
   ]
  },
  {
   "cell_type": "code",
   "execution_count": 10,
   "id": "6a087c83",
   "metadata": {},
   "outputs": [
    {
     "name": "stdout",
     "output_type": "stream",
     "text": [
      "gita\n"
     ]
    }
   ],
   "source": [
    "#while using loop in list\n",
    "i= 0 \n",
    "a =['gita','hari','sita','ram','shyam']\n",
    "l = len(a)\n",
    "while i<1:\n",
    "    print(a[i])\n",
    "    i = i+1"
   ]
  },
  {
   "cell_type": "code",
   "execution_count": 8,
   "id": "7a2d096d",
   "metadata": {},
   "outputs": [
    {
     "data": {
      "text/plain": [
       "['gita', 'hari', 'sita', 'shyam']"
      ]
     },
     "execution_count": 8,
     "metadata": {},
     "output_type": "execute_result"
    }
   ],
   "source": [
    "# removing multiple values\n",
    "a =['gita','hari','sita','ram','shyam']\n",
    "a.remove(\"ram\")\n",
    "a"
   ]
  },
  {
   "cell_type": "code",
   "execution_count": 5,
   "id": "a9032c8d",
   "metadata": {},
   "outputs": [
    {
     "name": "stdout",
     "output_type": "stream",
     "text": [
      "['gita', 'hari', 'sita', 'shyam']\n"
     ]
    }
   ],
   "source": [
    "a =['gita','hari','sita','ram','shyam','ram']\n",
    "c = a.count(\"ram\")\n",
    "for i in range(c):\n",
    "    a.remove(\"ram\")\n",
    "print(a)"
   ]
  },
  {
   "cell_type": "code",
   "execution_count": 6,
   "id": "a47ddf79",
   "metadata": {},
   "outputs": [
    {
     "name": "stdout",
     "output_type": "stream",
     "text": [
      "yes 2\n"
     ]
    }
   ],
   "source": [
    "a =['gita','hari','sita','ram','shyam','ram']\n",
    "if \"ram\" in a:\n",
    "    print(\"yes\", a.count(\"ram\"))\n",
    "else:\n",
    "    print(\"no\")"
   ]
  },
  {
   "cell_type": "code",
   "execution_count": 11,
   "id": "2cbbd7e6",
   "metadata": {},
   "outputs": [
    {
     "data": {
      "text/plain": [
       "3"
      ]
     },
     "execution_count": 11,
     "metadata": {},
     "output_type": "execute_result"
    }
   ],
   "source": [
    "a =['gita','hari','sita','ram','shyam','ram']\n",
    "a.index('ram')\n"
   ]
  },
  {
   "cell_type": "code",
   "execution_count": 20,
   "id": "a5b49eea",
   "metadata": {},
   "outputs": [
    {
     "name": "stdout",
     "output_type": "stream",
     "text": [
      "3\n"
     ]
    }
   ],
   "source": [
    "a =['gita','hari','sita','ram','shyam''ram']\n",
    "l = len (a)\n",
    "for i in range(l):\n",
    "    if a[i] == \"ram\":\n",
    "        print(i)"
   ]
  },
  {
   "cell_type": "code",
   "execution_count": 21,
   "id": "7b130bb7",
   "metadata": {},
   "outputs": [
    {
     "name": "stdout",
     "output_type": "stream",
     "text": [
      "enter name=ram\n"
     ]
    }
   ],
   "source": [
    "a =['gita','hari','sita','ram','shyam''ram']\n",
    "name =input(\"enter name=\")\n",
    "l = len (a)\n",
    "for i in range(l):\n",
    "    if a[i].lower == name.lower():\n",
    "        print(i)"
   ]
  },
  {
   "cell_type": "code",
   "execution_count": null,
   "id": "5e7b938c",
   "metadata": {},
   "outputs": [],
   "source": []
  }
 ],
 "metadata": {
  "kernelspec": {
   "display_name": "Python 3 (ipykernel)",
   "language": "python",
   "name": "python3"
  },
  "language_info": {
   "codemirror_mode": {
    "name": "ipython",
    "version": 3
   },
   "file_extension": ".py",
   "mimetype": "text/x-python",
   "name": "python",
   "nbconvert_exporter": "python",
   "pygments_lexer": "ipython3",
   "version": "3.10.9"
  }
 },
 "nbformat": 4,
 "nbformat_minor": 5
}
