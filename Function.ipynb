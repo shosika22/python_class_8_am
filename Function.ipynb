{
 "cells": [
  {
   "cell_type": "code",
   "execution_count": null,
   "id": "64d8aecc",
   "metadata": {},
   "outputs": [],
   "source": [
    "#pre defined function\n",
    "#print() int() float() str() list() tuple() dict() set()  #this is called function"
   ]
  },
  {
   "cell_type": "code",
   "execution_count": null,
   "id": "a90417e3",
   "metadata": {},
   "outputs": [],
   "source": [
    "# #user defined function\n",
    "# def<function_name>():\n",
    "#     <operation>\n",
    "    \n",
    "# <function_name>()"
   ]
  },
  {
   "cell_type": "code",
   "execution_count": 1,
   "id": "1867beba",
   "metadata": {},
   "outputs": [],
   "source": [
    "a =10"
   ]
  },
  {
   "cell_type": "code",
   "execution_count": 2,
   "id": "70229bb3",
   "metadata": {},
   "outputs": [
    {
     "name": "stdout",
     "output_type": "stream",
     "text": [
      "hello world\n"
     ]
    }
   ],
   "source": [
    "def hello():\n",
    "    print(\"hello world\")\n",
    "    \n",
    "hello()"
   ]
  },
  {
   "cell_type": "code",
   "execution_count": 10,
   "id": "7470c0a0",
   "metadata": {},
   "outputs": [
    {
     "name": "stdout",
     "output_type": "stream",
     "text": [
      "enter l =3\n",
      "enter b =5\n",
      "15\n"
     ]
    }
   ],
   "source": [
    "def cal():\n",
    "    l=int(input(\"enter l =\"))\n",
    "    b =int(input(\"enter b =\"))\n",
    "    a =l*b\n",
    "    print(a)\n",
    "    \n",
    "cal()"
   ]
  },
  {
   "cell_type": "code",
   "execution_count": 7,
   "id": "8d0c91c4",
   "metadata": {},
   "outputs": [
    {
     "name": "stdout",
     "output_type": "stream",
     "text": [
      "enter l =5\n",
      "enter b =7\n",
      "35\n"
     ]
    }
   ],
   "source": [
    "l=int(input(\"enter l =\"))\n",
    "b =int(input(\"enter b =\"))                            #local variable\n",
    "                                                      #global variable\n",
    "def cal():\n",
    "    a =l*b\n",
    "    print(a)\n",
    "    \n",
    "cal()"
   ]
  },
  {
   "cell_type": "code",
   "execution_count": null,
   "id": "cadfb02b",
   "metadata": {},
   "outputs": [],
   "source": [
    "#arguments\n",
    "#parameter\n",
    "#return type"
   ]
  },
  {
   "cell_type": "code",
   "execution_count": 13,
   "id": "7e9263a3",
   "metadata": {},
   "outputs": [
    {
     "name": "stdout",
     "output_type": "stream",
     "text": [
      "enter l1\n",
      "enter b5\n",
      "5\n"
     ]
    }
   ],
   "source": [
    "def cal(x,y):                     #x and y are parameter\n",
    "        a =l * b\n",
    "      \n",
    "    print(a)\n",
    "l= int(input(\"enter l\"))    #global variable\n",
    "b = int(input(\"enter b\"))   #global variable\n",
    "cal(l,b)                    # a b are arguments"
   ]
  },
  {
   "cell_type": "code",
   "execution_count": null,
   "id": "6e15296d",
   "metadata": {},
   "outputs": [],
   "source": []
  }
 ],
 "metadata": {
  "kernelspec": {
   "display_name": "Python 3 (ipykernel)",
   "language": "python",
   "name": "python3"
  },
  "language_info": {
   "codemirror_mode": {
    "name": "ipython",
    "version": 3
   },
   "file_extension": ".py",
   "mimetype": "text/x-python",
   "name": "python",
   "nbconvert_exporter": "python",
   "pygments_lexer": "ipython3",
   "version": "3.10.9"
  }
 },
 "nbformat": 4,
 "nbformat_minor": 5
}
