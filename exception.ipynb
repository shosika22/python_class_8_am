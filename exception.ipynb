{
 "cells": [
  {
   "cell_type": "code",
   "execution_count": 1,
   "id": "c6055e74",
   "metadata": {},
   "outputs": [],
   "source": [
    "#Exception handling"
   ]
  },
  {
   "cell_type": "code",
   "execution_count": null,
   "id": "ef4354e6",
   "metadata": {},
   "outputs": [],
   "source": [
    "# try:\n",
    "#     <operation>\n",
    "# except:\n",
    "#     <operation>"
   ]
  },
  {
   "cell_type": "code",
   "execution_count": 4,
   "id": "0fb13000",
   "metadata": {},
   "outputs": [
    {
     "name": "stdout",
     "output_type": "stream",
     "text": [
      "enter a =2\n",
      "enter b =5\n",
      "7\n"
     ]
    }
   ],
   "source": [
    "try:\n",
    "    a = int(input(\"enter a =\"))\n",
    "    b = int(input(\"enter b =\"))\n",
    "    print(a + b)\n",
    "except:\n",
    "    print(\"error\")"
   ]
  },
  {
   "cell_type": "code",
   "execution_count": 6,
   "id": "281f10f8",
   "metadata": {},
   "outputs": [
    {
     "name": "stdout",
     "output_type": "stream",
     "text": [
      "the file is already there.\n"
     ]
    }
   ],
   "source": [
    "try:\n",
    "    file = open('file.txt',x)\n",
    "    file.close()\n",
    "except:\n",
    "    print(\"the file is already there.\")"
   ]
  },
  {
   "cell_type": "code",
   "execution_count": 9,
   "id": "e7a01ef9",
   "metadata": {},
   "outputs": [
    {
     "name": "stdout",
     "output_type": "stream",
     "text": [
      "enter a =1\n"
     ]
    }
   ],
   "source": [
    "a = int(input(\"enter a =\"))"
   ]
  },
  {
   "cell_type": "code",
   "execution_count": 10,
   "id": "4df1c7fe",
   "metadata": {},
   "outputs": [
    {
     "ename": "ZeroDivisionError",
     "evalue": "division by zero",
     "output_type": "error",
     "traceback": [
      "\u001b[1;31m---------------------------------------------------------------------------\u001b[0m",
      "\u001b[1;31mZeroDivisionError\u001b[0m                         Traceback (most recent call last)",
      "Cell \u001b[1;32mIn[10], line 1\u001b[0m\n\u001b[1;32m----> 1\u001b[0m \u001b[38;5;241;43m10\u001b[39;49m\u001b[38;5;241;43m/\u001b[39;49m\u001b[38;5;241;43m0\u001b[39;49m\n",
      "\u001b[1;31mZeroDivisionError\u001b[0m: division by zero"
     ]
    }
   ],
   "source": [
    "10/0 "
   ]
  },
  {
   "cell_type": "code",
   "execution_count": 13,
   "id": "30a47fbd",
   "metadata": {},
   "outputs": [
    {
     "name": "stdout",
     "output_type": "stream",
     "text": [
      "enter a =77\n",
      "enter b =9\n",
      "8.555555555555555\n"
     ]
    }
   ],
   "source": [
    "try:\n",
    "    a = int(input(\"enter a =\"))\n",
    "    b = int(input(\"enter b =\"))\n",
    "    print(a / b)\n",
    "except:\n",
    "    print(\"error\")"
   ]
  },
  {
   "cell_type": "code",
   "execution_count": 14,
   "id": "0cf23dc2",
   "metadata": {},
   "outputs": [
    {
     "name": "stdout",
     "output_type": "stream",
     "text": [
      "enter a =hhhhh\n",
      "enter only int value!\n"
     ]
    }
   ],
   "source": [
    "try:\n",
    "    a = int(input(\"enter a =\"))\n",
    "    b = int(input(\"enter b =\"))\n",
    "    print(a / b)\n",
    "    \n",
    "except ValueError:\n",
    "    print(\"enter only int value!\")\n",
    "    \n",
    "    \n",
    "except ZeroDivisionError:\n",
    "    int(\"value of b can not be zero!\")\n",
    "    \n"
   ]
  },
  {
   "cell_type": "code",
   "execution_count": 21,
   "id": "77e5236d",
   "metadata": {},
   "outputs": [
    {
     "name": "stdout",
     "output_type": "stream",
     "text": [
      "enter a =60\n",
      "enter b =0\n",
      "value of b can not be zero!\n"
     ]
    }
   ],
   "source": [
    "try:\n",
    "    a = int(input(\"enter a =\"))\n",
    "    b = int(input(\"enter b =\"))\n",
    "    c = a / b\n",
    "    \n",
    "except ValueError:\n",
    "    print(\"enter only int value!\")\n",
    "    \n",
    "    \n",
    "except ZeroDivisionError:\n",
    "    print(\"value of b can not be zero!\")\n",
    "    \n",
    "else:\n",
    "    print(c)"
   ]
  },
  {
   "cell_type": "code",
   "execution_count": null,
   "id": "cf1f78fa",
   "metadata": {},
   "outputs": [],
   "source": [
    "# assert statement"
   ]
  },
  {
   "cell_type": "code",
   "execution_count": 23,
   "id": "ba12452c",
   "metadata": {},
   "outputs": [
    {
     "name": "stdout",
     "output_type": "stream",
     "text": [
      "enter age =18\n"
     ]
    },
    {
     "data": {
      "text/plain": [
       "False"
      ]
     },
     "execution_count": 23,
     "metadata": {},
     "output_type": "execute_result"
    }
   ],
   "source": [
    "\n",
    "age = int(input(\"enter age =\"))\n",
    "age >=20\n"
   ]
  },
  {
   "cell_type": "code",
   "execution_count": 30,
   "id": "532171d8",
   "metadata": {},
   "outputs": [
    {
     "name": "stdout",
     "output_type": "stream",
     "text": [
      "enter age =22\n",
      "welcome\n"
     ]
    }
   ],
   "source": [
    "try:\n",
    "    age = int(input(\"enter age =\"))\n",
    "    assert age >=20\n",
    "\n",
    "except:\n",
    "    print(\"your age are under 20\")\n",
    "else:\n",
    "    \n",
    "    print(\"welcome\")"
   ]
  },
  {
   "cell_type": "code",
   "execution_count": 33,
   "id": "21006c6c",
   "metadata": {},
   "outputs": [
    {
     "name": "stdout",
     "output_type": "stream",
     "text": [
      "enter username =admin\n",
      "enter password=admin\n",
      "login sucess!\n"
     ]
    }
   ],
   "source": [
    "username=\"admin\"\n",
    "password = \"admin\"\n",
    "def login():\n",
    "    try:\n",
    "        username1 = input(\"enter username =\")\n",
    "        password1 = input(\"enter password=\")\n",
    "        assert username == username1 and password == password1\n",
    "    except AssertionError:\n",
    "        print(\"username or password doesnot match\")\n",
    "    else:\n",
    "        print(\"login sucess!\")\n",
    "login()    "
   ]
  },
  {
   "cell_type": "code",
   "execution_count": null,
   "id": "d06d26e9",
   "metadata": {},
   "outputs": [],
   "source": []
  }
 ],
 "metadata": {
  "kernelspec": {
   "display_name": "Python 3 (ipykernel)",
   "language": "python",
   "name": "python3"
  },
  "language_info": {
   "codemirror_mode": {
    "name": "ipython",
    "version": 3
   },
   "file_extension": ".py",
   "mimetype": "text/x-python",
   "name": "python",
   "nbconvert_exporter": "python",
   "pygments_lexer": "ipython3",
   "version": "3.10.9"
  }
 },
 "nbformat": 4,
 "nbformat_minor": 5
}
