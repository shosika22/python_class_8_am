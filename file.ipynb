{
 "cells": [
  {
   "cell_type": "code",
   "execution_count": 1,
   "id": "93a1a834",
   "metadata": {},
   "outputs": [],
   "source": [
    "#mode \n",
    "#r-> read\n",
    "# x->create\n",
    "# w->write\n",
    "# a->append"
   ]
  },
  {
   "cell_type": "code",
   "execution_count": 2,
   "id": "c8de891e",
   "metadata": {},
   "outputs": [],
   "source": [
    "# create file\n",
    "file = open('data.txt','x')\n",
    "file.close()"
   ]
  },
  {
   "cell_type": "code",
   "execution_count": 4,
   "id": "dfb16ce3",
   "metadata": {},
   "outputs": [
    {
     "name": "stdout",
     "output_type": "stream",
     "text": [
      "\n"
     ]
    }
   ],
   "source": [
    "#read  file\n",
    "file = open('data.txt','r')\n",
    "content = file.read()\n",
    "print(content)\n",
    "file.close()"
   ]
  },
  {
   "cell_type": "code",
   "execution_count": 5,
   "id": "214aa3a3",
   "metadata": {},
   "outputs": [
    {
     "data": {
      "text/plain": [
       "[]"
      ]
     },
     "execution_count": 5,
     "metadata": {},
     "output_type": "execute_result"
    }
   ],
   "source": [
    "content.split()"
   ]
  },
  {
   "cell_type": "code",
   "execution_count": 6,
   "id": "a450b35c",
   "metadata": {},
   "outputs": [
    {
     "data": {
      "text/plain": [
       "['apple', 'ball', 'cat']"
      ]
     },
     "execution_count": 6,
     "metadata": {},
     "output_type": "execute_result"
    }
   ],
   "source": [
    "a =\"apple_ball_cat\"\n",
    "a.split(\"_\")"
   ]
  },
  {
   "cell_type": "code",
   "execution_count": 7,
   "id": "bf442148",
   "metadata": {},
   "outputs": [
    {
     "data": {
      "text/plain": [
       "''"
      ]
     },
     "execution_count": 7,
     "metadata": {},
     "output_type": "execute_result"
    }
   ],
   "source": [
    "content"
   ]
  },
  {
   "cell_type": "code",
   "execution_count": 8,
   "id": "1fd48049",
   "metadata": {},
   "outputs": [
    {
     "data": {
      "text/plain": [
       "['']"
      ]
     },
     "execution_count": 8,
     "metadata": {},
     "output_type": "execute_result"
    }
   ],
   "source": [
    "lines =content.split('\\n')\n",
    "lines"
   ]
  },
  {
   "cell_type": "code",
   "execution_count": 9,
   "id": "6df76029",
   "metadata": {},
   "outputs": [
    {
     "name": "stdout",
     "output_type": "stream",
     "text": [
      "enter  line no=1\n"
     ]
    },
    {
     "data": {
      "text/plain": [
       "''"
      ]
     },
     "execution_count": 9,
     "metadata": {},
     "output_type": "execute_result"
    }
   ],
   "source": [
    "line_no = int(input(\"enter  line no=\"))\n",
    "lines[line_no-1]"
   ]
  },
  {
   "cell_type": "code",
   "execution_count": 10,
   "id": "a3610a8f",
   "metadata": {},
   "outputs": [],
   "source": [
    "#write on file\n",
    "file = open('data.txt','w')\n",
    "file.write(\"hello world\")\n",
    "file.close()"
   ]
  },
  {
   "cell_type": "code",
   "execution_count": 11,
   "id": "4cb10d21",
   "metadata": {},
   "outputs": [
    {
     "name": "stdout",
     "output_type": "stream",
     "text": [
      "enter n =3\n",
      "enter name =shosika\n",
      "enter price = 77\n",
      "enter quantity = 2\n",
      "enter name =orange\n",
      "enter price = 77\n",
      "enter quantity = 3\n",
      "enter name =mango\n",
      "enter price = 44\n",
      "enter quantity = 3\n"
     ]
    }
   ],
   "source": [
    "bill=\"\"\n",
    "n =int(input(\"enter n =\"))\n",
    "for i in range(n):\n",
    "    name = input(\"enter name =\")\n",
    "    price =int(input(\"enter price = \"))\n",
    "    quantity=int(input(\"enter quantity = \"))\n",
    "    total =price *quantity\n",
    "    bill= bill + f\"{name}{price} {quantity}  {total}\\n\"\n",
    "    \n",
    "file=open('bill.txt', 'w')\n",
    "file.write(bill)\n",
    "file.close()"
   ]
  },
  {
   "cell_type": "code",
   "execution_count": 12,
   "id": "cc2f10dd",
   "metadata": {},
   "outputs": [
    {
     "name": "stdout",
     "output_type": "stream",
     "text": [
      "shosika77 2  154\n",
      "orange77 3  231\n",
      "mango44 3  132\n",
      "\n"
     ]
    }
   ],
   "source": [
    "file = open('bill.txt','r')\n",
    "content = file.read()\n",
    "print(content)\n",
    "file.close()\n"
   ]
  },
  {
   "cell_type": "code",
   "execution_count": 13,
   "id": "fe9bd56f",
   "metadata": {},
   "outputs": [
    {
     "data": {
      "text/plain": [
       "['shosika77 2  154', 'orange77 3  231', 'mango44 3  132']"
      ]
     },
     "execution_count": 13,
     "metadata": {},
     "output_type": "execute_result"
    }
   ],
   "source": [
    "data = content.split('\\n') [:-1]\n",
    "data"
   ]
  },
  {
   "cell_type": "code",
   "execution_count": 14,
   "id": "8a4b5785",
   "metadata": {},
   "outputs": [
    {
     "data": {
      "text/plain": [
       "[['shosika77', 2, 154], ['orange77', 3, 231], ['mango44', 3, 132]]"
      ]
     },
     "execution_count": 14,
     "metadata": {},
     "output_type": "execute_result"
    }
   ],
   "source": [
    "list_bill =[]\n",
    "for i in data:\n",
    "    x = i.split()\n",
    "    x[1] = int(x[1])\n",
    "    x[2] = int(x[2])       #string ma vako data lai list ma convert gareko\n",
    "    list_bill.append(x)\n",
    "list_bill"
   ]
  },
  {
   "cell_type": "code",
   "execution_count": 15,
   "id": "b4d3b9fb",
   "metadata": {},
   "outputs": [],
   "source": [
    "del list_bill[1]"
   ]
  },
  {
   "cell_type": "code",
   "execution_count": 16,
   "id": "2c1c52a7",
   "metadata": {},
   "outputs": [
    {
     "data": {
      "text/plain": [
       "[['shosika77', 2, 154], ['mango44', 3, 132]]"
      ]
     },
     "execution_count": 16,
     "metadata": {},
     "output_type": "execute_result"
    }
   ],
   "source": [
    "list_bill"
   ]
  },
  {
   "cell_type": "code",
   "execution_count": 17,
   "id": "e9c6b6e8",
   "metadata": {},
   "outputs": [],
   "source": [
    "a = [['ram',33,'ktm'],\n",
    "   ['hari',44,'brt']]"
   ]
  },
  {
   "cell_type": "code",
   "execution_count": 18,
   "id": "7074d473",
   "metadata": {},
   "outputs": [],
   "source": [
    "#writing  list into file\n",
    "import csv\n",
    "file = open('info.txt','w')\n",
    "x = csv.writer(file)\n",
    "x.writerows(list_bill)\n",
    "file.close()"
   ]
  },
  {
   "cell_type": "code",
   "execution_count": 19,
   "id": "89bc9ce3",
   "metadata": {},
   "outputs": [],
   "source": [
    "# Append mode in file\n"
   ]
  },
  {
   "cell_type": "code",
   "execution_count": 23,
   "id": "3502ea22",
   "metadata": {},
   "outputs": [
    {
     "name": "stdout",
     "output_type": "stream",
     "text": [
      "enter n =2\n",
      "enter name =sita\n",
      "enter age = 33\n",
      "enter add = brt\n",
      "enter name =pitu\n",
      "enter age = 22\n",
      "enter add = ktm\n"
     ]
    }
   ],
   "source": [
    "file =open('append_bill.txt','a')\n",
    "info = \"\"\n",
    "n = int(input(\"enter n =\"))\n",
    "for i in range(n):\n",
    "    name = input(\"enter name =\")\n",
    "    age =int(input(\"enter age = \"))\n",
    "    add =input(\"enter add = \")\n",
    "    info =info + f\"{name}{age}{add}\\n\"\n",
    "file.wriSte(info)\n",
    "file.close()"
   ]
  },
  {
   "cell_type": "code",
   "execution_count": null,
   "id": "512522e0",
   "metadata": {},
   "outputs": [],
   "source": []
  }
 ],
 "metadata": {
  "kernelspec": {
   "display_name": "Python 3 (ipykernel)",
   "language": "python",
   "name": "python3"
  },
  "language_info": {
   "codemirror_mode": {
    "name": "ipython",
    "version": 3
   },
   "file_extension": ".py",
   "mimetype": "text/x-python",
   "name": "python",
   "nbconvert_exporter": "python",
   "pygments_lexer": "ipython3",
   "version": "3.10.9"
  }
 },
 "nbformat": 4,
 "nbformat_minor": 5
}
