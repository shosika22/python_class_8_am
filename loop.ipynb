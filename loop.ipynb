{
 "cells": [
  {
   "cell_type": "code",
   "execution_count": null,
   "id": "ba66e005",
   "metadata": {},
   "outputs": [],
   "source": [
    "#for looop\n",
    "# while loop\n"
   ]
  },
  {
   "cell_type": "code",
   "execution_count": null,
   "id": "f488b874",
   "metadata": {},
   "outputs": [],
   "source": [
    "##############for loop\n",
    "\n",
    "range #creates squences of number\n",
    "range(5) # 0 1 2 3 4 5 \n",
    "range(1,5) #  1 2 3 4\n",
    "range(1,5,2) #  1  3 \n",
    "\n"
   ]
  },
  {
   "cell_type": "code",
   "execution_count": 3,
   "id": "fdf31113",
   "metadata": {},
   "outputs": [
    {
     "name": "stdout",
     "output_type": "stream",
     "text": [
      "0\n",
      "1\n",
      "2\n",
      "3\n",
      "4\n"
     ]
    }
   ],
   "source": [
    "for  i in range(5):\n",
    "    print(i)"
   ]
  },
  {
   "cell_type": "code",
   "execution_count": 4,
   "id": "f8d2cd5b",
   "metadata": {},
   "outputs": [
    {
     "name": "stdout",
     "output_type": "stream",
     "text": [
      "1\n",
      "2\n",
      "3\n",
      "4\n"
     ]
    }
   ],
   "source": [
    " for i in range(1,5):\n",
    "        print(i)"
   ]
  },
  {
   "cell_type": "code",
   "execution_count": 6,
   "id": "ec40fd8e",
   "metadata": {},
   "outputs": [
    {
     "name": "stdout",
     "output_type": "stream",
     "text": [
      "1\n",
      "3\n"
     ]
    }
   ],
   "source": [
    "for i in range(1,5,2):\n",
    "        print(i)"
   ]
  },
  {
   "cell_type": "code",
   "execution_count": 8,
   "id": "167cc175",
   "metadata": {},
   "outputs": [
    {
     "name": "stdout",
     "output_type": "stream",
     "text": [
      "0 hello world\n",
      "1 hello world\n",
      "2 hello world\n",
      "3 hello world\n",
      "4 hello world\n"
     ]
    }
   ],
   "source": [
    "for  i in range(5):\n",
    "    print( i,\"hello world\")"
   ]
  },
  {
   "cell_type": "code",
   "execution_count": 9,
   "id": "d175767b",
   "metadata": {},
   "outputs": [
    {
     "name": "stdout",
     "output_type": "stream",
     "text": [
      "5\n",
      "10\n",
      "15\n",
      "20\n",
      "25\n",
      "30\n",
      "35\n",
      "40\n",
      "45\n",
      "50\n"
     ]
    }
   ],
   "source": [
    "for i in range(1,11):\n",
    "    print(i *5 )"
   ]
  },
  {
   "cell_type": "code",
   "execution_count": 11,
   "id": "94129b96",
   "metadata": {},
   "outputs": [
    {
     "name": "stdout",
     "output_type": "stream",
     "text": [
      "enter the value of x=3\n",
      "3 * 1 = 3\n",
      "3 * 2 = 6\n",
      "3 * 3 = 9\n",
      "3 * 4 = 12\n",
      "3 * 5 = 15\n",
      "3 * 6 = 18\n",
      "3 * 7 = 21\n",
      "3 * 8 = 24\n",
      "3 * 9 = 27\n",
      "3 * 10 = 30\n"
     ]
    }
   ],
   "source": [
    "x = int (input(\"enter the value of x=\"))\n",
    "for i in range(1,11):\n",
    "    print( x, \"*\", i,\"=\", i*x)"
   ]
  },
  {
   "cell_type": "code",
   "execution_count": 12,
   "id": "00962870",
   "metadata": {},
   "outputs": [
    {
     "name": "stdout",
     "output_type": "stream",
     "text": [
      "enter x =2\n",
      "enter x =2\n",
      "enter x =2\n",
      "enter x =2\n",
      "enter x =2\n"
     ]
    }
   ],
   "source": [
    "for i in range(5):\n",
    "     x = int(input(\"enter x =\"))\n",
    "        "
   ]
  },
  {
   "cell_type": "code",
   "execution_count": 16,
   "id": "0910a7ac",
   "metadata": {},
   "outputs": [
    {
     "name": "stdout",
     "output_type": "stream",
     "text": [
      "enter x =1000\n",
      "1000\n",
      "enter x =10000\n",
      "11000\n",
      "enter x =20000\n",
      "31000\n",
      "enter x =30000\n",
      "61000\n",
      "enter x =40000\n",
      "101000\n"
     ]
    }
   ],
   "source": [
    "abc = 0\n",
    "for i in range(5):\n",
    "     x = int(input(\"enter x =\"))\n",
    "     abc = abc + x\n",
    "    \n",
    "     print(abc)\n",
    "        "
   ]
  },
  {
   "cell_type": "code",
   "execution_count": 17,
   "id": "6a4b55e2",
   "metadata": {},
   "outputs": [
    {
     "name": "stdout",
     "output_type": "stream",
     "text": [
      "enter x =2000\n",
      "enter x =2000\n",
      "enter x =2000\n",
      "enter x =2000\n",
      "enter x =2000\n",
      "10000\n"
     ]
    }
   ],
   "source": [
    "abc = 0    #int()\n",
    "for i in range(5):\n",
    "     x = int(input(\"enter x =\"))\n",
    "     abc = abc + x\n",
    "    \n",
    "print(abc)\n",
    "        "
   ]
  },
  {
   "cell_type": "code",
   "execution_count": 20,
   "id": "0838d48f",
   "metadata": {},
   "outputs": [
    {
     "name": "stdout",
     "output_type": "stream",
     "text": [
      "enter x =sita\n",
      "enter x =gita\n",
      "enter x =hari\n",
      "enter x =ram\n",
      "enter x =shyam\n",
      "sitagitahariramshyam\n"
     ]
    }
   ],
   "source": [
    "abc = \"\" #str()\n",
    "for i in range(5):\n",
    "     x = str(input(\"enter x =\"))\n",
    "     abc = abc + x + \"\"\n",
    "    \n",
    "print(abc)\n",
    "        "
   ]
  },
  {
   "cell_type": "code",
   "execution_count": 21,
   "id": "fe6badb7",
   "metadata": {},
   "outputs": [
    {
     "name": "stdout",
     "output_type": "stream",
     "text": [
      "enter n =2\n",
      "enter  x =sita\n",
      "enter  x =ram\n",
      "sita\n",
      "ram\n",
      "\n"
     ]
    }
   ],
   "source": [
    "abc =\"\"  #str()\n",
    "n = int(input(\"enter n =\"))\n",
    "for i in range(n):\n",
    "    x = input(\"enter  x =\")\n",
    "    abc= abc + x +\"\\n\"\n",
    "print(abc)"
   ]
  },
  {
   "cell_type": "code",
   "execution_count": null,
   "id": "39f36b5a",
   "metadata": {},
   "outputs": [
    {
     "name": "stdout",
     "output_type": "stream",
     "text": [
      "enter n=2\n",
      "enter name=shsika\n",
      "enter phone=456755355\n",
      "shsika 456755355\n",
      "\n"
     ]
    }
   ],
   "source": [
    "contact=\"\"\n",
    "n =  int(input(\"enter n=\"))\n",
    "for i in range(n):\n",
    "    name = str(input(\"enter name=\"))\n",
    "    phone = int(input(\"enter phone=\"))\n",
    "    contact =  contact + name + \" \" +  str(phone)  + \"\\n\"\n",
    "    print(contact)\n",
    "   \n",
    "              "
   ]
  },
  {
   "cell_type": "code",
   "execution_count": 1,
   "id": "6fc7101f",
   "metadata": {},
   "outputs": [
    {
     "name": "stdout",
     "output_type": "stream",
     "text": [
      "1\n",
      "2\n",
      "3\n",
      "4\n",
      "5\n"
     ]
    }
   ],
   "source": [
    "#for fact\n",
    "fac = 1\n",
    "for i in range(1,6):\n",
    "    print(i)"
   ]
  },
  {
   "cell_type": "code",
   "execution_count": 1,
   "id": "b464d6d9",
   "metadata": {},
   "outputs": [
    {
     "name": "stdout",
     "output_type": "stream",
     "text": [
      "enter n=1\n",
      "1\n"
     ]
    }
   ],
   "source": [
    "#for fact\n",
    "fac = 1\n",
    "n = int(input(\"enter n=\"))\n",
    "for i in range(1,n+1):\n",
    "    fac =fac*i\n",
    "    print(fac)"
   ]
  },
  {
   "cell_type": "code",
   "execution_count": 1,
   "id": "cbfb18bb",
   "metadata": {},
   "outputs": [
    {
     "name": "stdout",
     "output_type": "stream",
     "text": [
      "\n",
      "o\n",
      "oo\n",
      "ooo\n",
      "oooo\n",
      "ooooo\n",
      "oooooo\n",
      "ooooooo\n",
      "oooooooo\n",
      "ooooooooo\n"
     ]
    }
   ],
   "source": [
    "for i in range(10):\n",
    "    print( i * 'o')"
   ]
  },
  {
   "cell_type": "code",
   "execution_count": null,
   "id": "dbc210d6",
   "metadata": {},
   "outputs": [],
   "source": [
    "n =10\n",
    "for i in range(30):\n"
   ]
  },
  {
   "cell_type": "code",
   "execution_count": null,
   "id": "7824a088",
   "metadata": {},
   "outputs": [],
   "source": [
    "WAP to make billing system\n",
    "\n",
    "name=?\n",
    "price=?\n",
    "quantity=?\n"
   ]
  },
  {
   "cell_type": "code",
   "execution_count": 4,
   "id": "53495b4f",
   "metadata": {},
   "outputs": [
    {
     "name": "stdout",
     "output_type": "stream",
     "text": [
      "enter n=2\n",
      "enter name=rrrrr\n",
      "enter price =55\n",
      "enter price =66\n",
      "enter name=ffff\n",
      "enter price =66\n",
      "enter price =77\n",
      "rrrrr 55 66 3630\n",
      "ffff 66 77 5082\n",
      "\n"
     ]
    }
   ],
   "source": [
    "bill=\"\"\n",
    "n =  int(input(\"enter n=\"))\n",
    "for i in range(n):\n",
    "    name = input(\"enter name=\")\n",
    "    price = int(input(\"enter price =\"))\n",
    "    quantity= int(input(\"enter price =\"))\n",
    "    total =  price *  quantity\n",
    "    bill = bill + name + \" \" + str(price) + \" \" +  str(quantity) + \" \" + str(total) + \"\\n\"\n",
    "   \n",
    "    \n",
    "print(bill)\n"
   ]
  },
  {
   "cell_type": "code",
   "execution_count": 6,
   "id": "1ec987ba",
   "metadata": {},
   "outputs": [
    {
     "name": "stdout",
     "output_type": "stream",
     "text": [
      "number of items= 2\n",
      "Name of item= lays\n",
      "price of item= 55\n",
      "Number of quantity= 2\n",
      "Name of item= fenta\n",
      "price of item= 66\n",
      "Number of quantity= 2\n",
      "lays 55 2 110\n",
      "fenta 66 2 132\n",
      "\n",
      "10164\n"
     ]
    }
   ],
   "source": [
    "bill=str()\n",
    "all_total = 0\n",
    "n=int(input(\"number of items= \"))\n",
    "for i in range(n):\n",
    "    name= input(\"Name of item= \")\n",
    "    price= int(input(\"price of item= \"))\n",
    "    quantity= int(input(\"Number of quantity= \"))\n",
    "    individual_total = price*quantity\n",
    "    bill=bill+ name + \" \" + str(price) + \" \" + str(quantity) + \" \" +str(individual_total)+\"\\n\"\n",
    "    all_total =all_total + total\n",
    "    \n",
    "print(bill)\n",
    "print(all_total)"
   ]
  },
  {
   "cell_type": "code",
   "execution_count": null,
   "id": "afb139ae",
   "metadata": {},
   "outputs": [],
   "source": []
  },
  {
   "cell_type": "code",
   "execution_count": null,
   "id": "d3e94314",
   "metadata": {},
   "outputs": [],
   "source": []
  }
 ],
 "metadata": {
  "kernelspec": {
   "display_name": "Python 3 (ipykernel)",
   "language": "python",
   "name": "python3"
  },
  "language_info": {
   "codemirror_mode": {
    "name": "ipython",
    "version": 3
   },
   "file_extension": ".py",
   "mimetype": "text/x-python",
   "name": "python",
   "nbconvert_exporter": "python",
   "pygments_lexer": "ipython3",
   "version": "3.10.9"
  }
 },
 "nbformat": 4,
 "nbformat_minor": 5
}
