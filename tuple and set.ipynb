{
 "cells": [
  {
   "cell_type": "code",
   "execution_count": null,
   "id": "8089a9e2",
   "metadata": {},
   "outputs": [],
   "source": [
    "# TUPLE\n",
    "# -indexing\n",
    "# -multiple and duolicate dats\n",
    "# -Ordered\n",
    "# -imutable\n"
   ]
  },
  {
   "cell_type": "code",
   "execution_count": 1,
   "id": "406e0390",
   "metadata": {},
   "outputs": [
    {
     "name": "stdout",
     "output_type": "stream",
     "text": [
      "<class 'tuple'>\n",
      "<class 'tuple'>\n"
     ]
    }
   ],
   "source": [
    "t =tuple()\n",
    "a=(1,2,3,4,5,6,7,8,9,0)\n",
    "b =(\"apple\",\"ball\",\"cat\")\n",
    "print(type(a))\n",
    "print(type(b))"
   ]
  },
  {
   "cell_type": "code",
   "execution_count": 2,
   "id": "d83636f7",
   "metadata": {},
   "outputs": [
    {
     "data": {
      "text/plain": [
       "str"
      ]
     },
     "execution_count": 2,
     "metadata": {},
     "output_type": "execute_result"
    }
   ],
   "source": [
    "t =(\"apple\")\n",
    "type(t)"
   ]
  },
  {
   "cell_type": "code",
   "execution_count": 5,
   "id": "9c2e77c5",
   "metadata": {},
   "outputs": [
    {
     "name": "stdout",
     "output_type": "stream",
     "text": [
      "appple\n",
      "('appple', 'ball')\n",
      "('appple', 'cat')\n"
     ]
    }
   ],
   "source": [
    "b =(\"appple\",\"ball\",\"cat\")\n",
    "print(b[0])\n",
    "print(b[0:2])\n",
    "print(b[0:3:2])"
   ]
  },
  {
   "cell_type": "code",
   "execution_count": null,
   "id": "211c7078",
   "metadata": {},
   "outputs": [],
   "source": [
    "# N0 append ()insert ()extend\n",
    "#n0 update\n",
    "#no delete\n",
    "#no sort()"
   ]
  },
  {
   "cell_type": "code",
   "execution_count": 6,
   "id": "5820075a",
   "metadata": {},
   "outputs": [
    {
     "name": "stdout",
     "output_type": "stream",
     "text": [
      "(1, 2, 3, 3, 4, 5, 6, 7, 1, 2, 6, 7, 8, 8, 9, 0)\n"
     ]
    }
   ],
   "source": [
    "a =(1,2,3,3,4,5,6,7)\n",
    "b =(1,2,6,7,8,8,9,0)\n",
    "c =a+b\n",
    "print(c)"
   ]
  },
  {
   "cell_type": "code",
   "execution_count": 7,
   "id": "9dd2bf9c",
   "metadata": {},
   "outputs": [
    {
     "name": "stdout",
     "output_type": "stream",
     "text": [
      "(1, 2, 3, 4, 5, 1, 2, 3, 4, 5)\n"
     ]
    }
   ],
   "source": [
    "a =(1,2,3,4,5)\n",
    "print(a*2)"
   ]
  },
  {
   "cell_type": "code",
   "execution_count": 9,
   "id": "ed1ac57f",
   "metadata": {},
   "outputs": [
    {
     "name": "stdout",
     "output_type": "stream",
     "text": [
      "enter n2\n",
      "enter x=1\n",
      "(1,)\n",
      "enter x=2\n",
      "(1, 2)\n"
     ]
    }
   ],
   "source": [
    "t=()                                #t= tuple\n",
    "n =int(input(\"enter n\"))\n",
    "for i in range(n):\n",
    "    x =int(input(\"enter x=\"))\n",
    "    t =t + (x,)\n",
    "    print(t)"
   ]
  },
  {
   "cell_type": "code",
   "execution_count": 10,
   "id": "76f68444",
   "metadata": {},
   "outputs": [
    {
     "name": "stdout",
     "output_type": "stream",
     "text": [
      "2\n",
      "41\n",
      "41\n"
     ]
    }
   ],
   "source": [
    "a =(2,3,4,5,6,7,8,9)\n",
    "print(min(a))\n",
    "print(sum(b))\n",
    "print(sum(b))"
   ]
  },
  {
   "cell_type": "code",
   "execution_count": 11,
   "id": "b3e4a193",
   "metadata": {},
   "outputs": [
    {
     "name": "stdout",
     "output_type": "stream",
     "text": [
      "2\n",
      "41\n",
      "41\n"
     ]
    },
    {
     "data": {
      "text/plain": [
       "[2, 3, 4, 5, 6, 7, 8, 9]"
      ]
     },
     "execution_count": 11,
     "metadata": {},
     "output_type": "execute_result"
    }
   ],
   "source": [
    "a =(2,3,4,5,6,7,8,9)\n",
    "print(min(a))                 #yeslai sort chai garna paidain byt yesto sort value chai hunca\n",
    "print(sum(b))\n",
    "print(sum(b))\n",
    "sorted(a)"
   ]
  },
  {
   "cell_type": "code",
   "execution_count": 13,
   "id": "57869bb1",
   "metadata": {},
   "outputs": [
    {
     "data": {
      "text/plain": [
       "('ball', 'cat')"
      ]
     },
     "execution_count": 13,
     "metadata": {},
     "output_type": "execute_result"
    }
   ],
   "source": [
    "#tuple to list \n",
    "b =(\"apple\",\"ball\",\"cat\")\n",
    "c =list(b)\n",
    "del c[0]\n",
    "b =tuple(c)\n",
    "b"
   ]
  },
  {
   "cell_type": "code",
   "execution_count": 18,
   "id": "30714364",
   "metadata": {},
   "outputs": [
    {
     "name": "stdout",
     "output_type": "stream",
     "text": [
      "enter n =2\n",
      "enter name =shhh\n",
      "enter age =22\n",
      "enter address =ktm\n"
     ]
    },
    {
     "ename": "TypeError",
     "evalue": "can only concatenate list (not \"tuple\") to list",
     "output_type": "error",
     "traceback": [
      "\u001b[1;31m---------------------------------------------------------------------------\u001b[0m",
      "\u001b[1;31mTypeError\u001b[0m                                 Traceback (most recent call last)",
      "Cell \u001b[1;32mIn[18], line 9\u001b[0m\n\u001b[0;32m      7\u001b[0m     age \u001b[38;5;241m=\u001b[39m \u001b[38;5;28mint\u001b[39m(\u001b[38;5;28minput\u001b[39m(\u001b[38;5;124m\"\u001b[39m\u001b[38;5;124menter age =\u001b[39m\u001b[38;5;124m\"\u001b[39m))\n\u001b[0;32m      8\u001b[0m     add \u001b[38;5;241m=\u001b[39m \u001b[38;5;28minput\u001b[39m(\u001b[38;5;124m\"\u001b[39m\u001b[38;5;124menter address =\u001b[39m\u001b[38;5;124m\"\u001b[39m)\n\u001b[1;32m----> 9\u001b[0m     ifno \u001b[38;5;241m=\u001b[39m\u001b[43minfo\u001b[49m\u001b[43m \u001b[49m\u001b[38;5;241;43m+\u001b[39;49m\u001b[43m(\u001b[49m\u001b[43m(\u001b[49m\u001b[43mname\u001b[49m\u001b[43m,\u001b[49m\u001b[43mage\u001b[49m\u001b[43m,\u001b[49m\u001b[43madd\u001b[49m\u001b[43m)\u001b[49m\u001b[43m)\u001b[49m\n\u001b[0;32m     10\u001b[0m info\n",
      "\u001b[1;31mTypeError\u001b[0m: can only concatenate list (not \"tuple\") to list"
     ]
    }
   ],
   "source": [
    "#tuble inside tuple\n",
    "\n",
    "info = []\n",
    "n = int(input(\"enter n =\")) \n",
    "for i in range(1,n+1):\n",
    "    name = input(\"enter name =\")\n",
    "    age = int(input(\"enter age =\"))\n",
    "    add = input(\"enter address =\")\n",
    "    ifno =info +((name,age,add),)\n",
    "info\n"
   ]
  },
  {
   "cell_type": "code",
   "execution_count": null,
   "id": "32b8bfe0",
   "metadata": {},
   "outputs": [],
   "source": []
  }
 ],
 "metadata": {
  "kernelspec": {
   "display_name": "Python 3 (ipykernel)",
   "language": "python",
   "name": "python3"
  },
  "language_info": {
   "codemirror_mode": {
    "name": "ipython",
    "version": 3
   },
   "file_extension": ".py",
   "mimetype": "text/x-python",
   "name": "python",
   "nbconvert_exporter": "python",
   "pygments_lexer": "ipython3",
   "version": "3.10.9"
  }
 },
 "nbformat": 4,
 "nbformat_minor": 5
}
