{
 "cells": [
  {
   "cell_type": "code",
   "execution_count": 1,
   "id": "51b413fb",
   "metadata": {},
   "outputs": [],
   "source": [
    "# #class <names>\n",
    "#        <method>\n",
    "    \n",
    "    \n",
    "# <name>()"
   ]
  },
  {
   "cell_type": "code",
   "execution_count": 11,
   "id": "ed7c268c",
   "metadata": {},
   "outputs": [
    {
     "name": "stdout",
     "output_type": "stream",
     "text": [
      "hello world\n"
     ]
    }
   ],
   "source": [
    "class hello:\n",
    "    def hello(self):\n",
    "        print(\"hello world\")\n",
    "obj = Hello()    \n",
    "obj.hello()"
   ]
  },
  {
   "cell_type": "code",
   "execution_count": 5,
   "id": "3cd8d3fb",
   "metadata": {},
   "outputs": [
    {
     "name": "stdout",
     "output_type": "stream",
     "text": [
      "Hello world\n"
     ]
    }
   ],
   "source": [
    "class Hello:\n",
    "    @staticmethod\n",
    "    def hello():\n",
    "        print(\"Hello world\")\n",
    "        \n",
    "obj = Hello()\n",
    "obj.hello()"
   ]
  },
  {
   "cell_type": "code",
   "execution_count": 6,
   "id": "ecb15470",
   "metadata": {},
   "outputs": [
    {
     "name": "stdout",
     "output_type": "stream",
     "text": [
      "hello world\n"
     ]
    }
   ],
   "source": [
    "class hello:\n",
    "    def hello():\n",
    "        print(\"hello world\")\n",
    "obj = Hello()    \n",
    "obj.hello()"
   ]
  },
  {
   "cell_type": "code",
   "execution_count": 5,
   "id": "13413214",
   "metadata": {},
   "outputs": [
    {
     "name": "stdout",
     "output_type": "stream",
     "text": [
      "hello world\n"
     ]
    }
   ],
   "source": [
    "class Hello:\n",
    "    def hello(self):\n",
    "        print(\"hello world\")\n",
    "obj = Hello()\n",
    "obj.hello()"
   ]
  },
  {
   "cell_type": "code",
   "execution_count": 8,
   "id": "6a35a4c1",
   "metadata": {},
   "outputs": [
    {
     "name": "stdout",
     "output_type": "stream",
     "text": [
      "enter l =4\n",
      "enter b =6\n",
      "24\n"
     ]
    }
   ],
   "source": [
    "class Cal:\n",
    "    def area(self):\n",
    "        l = int(input(\"enter l =\"))\n",
    "        b = int(input(\"enter b =\"))\n",
    "        a = l*b\n",
    "        print(a)\n",
    "        \n",
    "obj = Cal()\n",
    "obj.area()\n",
    "        "
   ]
  },
  {
   "cell_type": "code",
   "execution_count": 13,
   "id": "813b1a8b",
   "metadata": {},
   "outputs": [
    {
     "name": "stdout",
     "output_type": "stream",
     "text": [
      "enter h =6\n",
      "enter l =7\n",
      "enter b =9\n",
      "63\n"
     ]
    }
   ],
   "source": [
    "class Cal:\n",
    "    def volume(self):\n",
    "        l = int(input(\"enter l =\"))\n",
    "        b = int(input(\"enter b =\"))\n",
    "        v = l*b\n",
    "        print(v)\n",
    "        \n",
    "obj = Cal()\n",
    "h =  int(input(\"enter h =\"))\n",
    "obj.volume()\n",
    "        "
   ]
  },
  {
   "cell_type": "code",
   "execution_count": 16,
   "id": "872105b6",
   "metadata": {},
   "outputs": [
    {
     "name": "stdout",
     "output_type": "stream",
     "text": [
      "enter h =6\n",
      "enter l =7\n",
      "enter b =8\n",
      "56\n"
     ]
    }
   ],
   "source": [
    "class Cal:\n",
    "    def volume(self,h):\n",
    "        l = int(input(\"enter l =\"))\n",
    "        b = int(input(\"enter b =\"))\n",
    "        v = l*b\n",
    "        print(v)\n",
    "        \n",
    "obj = Cal()\n",
    "h =  int(input(\"enter h =\"))\n",
    "obj.volume(h)\n",
    "        "
   ]
  },
  {
   "cell_type": "code",
   "execution_count": 25,
   "id": "753b60ee",
   "metadata": {},
   "outputs": [
    {
     "name": "stdout",
     "output_type": "stream",
     "text": [
      "enter l =1\n",
      "enter b =3\n",
      "enter h =4\n",
      "12\n"
     ]
    }
   ],
   "source": [
    "class Cal:\n",
    "    def __init__(self):\n",
    "        self.l = int(input(\"enter l =\"))\n",
    "        self.b = int(input(\"enter b =\"))\n",
    "        self.h = int(input(\"enter h =\"))\n",
    "                      \n",
    "    def volume(self):\n",
    "        v = self.l*self.b*self.h\n",
    "        print(v)\n",
    "obj = Cal()\n",
    "obj.volume()\n",
    "\n",
    "                      "
   ]
  },
  {
   "cell_type": "code",
   "execution_count": 28,
   "id": "69de9dc9",
   "metadata": {},
   "outputs": [
    {
     "name": "stdout",
     "output_type": "stream",
     "text": [
      "enter name=shosika\n",
      "enter age =22\n",
      "enter add =kathmandu\n",
      "shosika kathmandu\n",
      "hello world i am shosika. i am 22. i am fromkathmandu\n"
     ]
    }
   ],
   "source": [
    "class Info:\n",
    "    \n",
    "    def __init__(self):\n",
    "        self.name =input(\"enter name=\")\n",
    "        self.age = int(input(\"enter age =\"))\n",
    "        self.add = input(\"enter add =\")\n",
    "        \n",
    "    def  data(self):\n",
    "        print(self.name,self.add)\n",
    "        \n",
    "    def info(self):\n",
    "        print(f\"hello world i am {self.name}. i am {self.age}. i am from{self.add}\")\n",
    "        \n",
    "obj = Info()\n",
    "obj.data()\n",
    "obj.info()"
   ]
  },
  {
   "cell_type": "code",
   "execution_count": 30,
   "id": "bfa6e638",
   "metadata": {},
   "outputs": [
    {
     "name": "stdout",
     "output_type": "stream",
     "text": [
      "enter name=shosika\n",
      "enter age =22\n",
      "enter add =kathmandu\n",
      "shosika kathmandu\n",
      "hello world i am shosika. i am 22. i am fromkathmandu\n"
     ]
    }
   ],
   "source": [
    "class Info:\n",
    "    \n",
    "    def __init__(self,name,age,add):\n",
    "        self.n = name\n",
    "        self.a = age\n",
    "        self.ad = add                                   #yesari garda ni hunx init\n",
    "        \n",
    "    def  data(self):\n",
    "        print(self.n,self.ad)\n",
    "        \n",
    "    def info(self):\n",
    "        print(f\"hello world i am {self.n}. i am {self.a}. i am from{self.ad}\")\n",
    "        \n",
    "name =input(\"enter name=\")\n",
    "age = int(input(\"enter age =\"))\n",
    "add = input(\"enter add =\")\n",
    "obj.data()\n",
    "obj.info()"
   ]
  },
  {
   "cell_type": "code",
   "execution_count": null,
   "id": "3888b89a",
   "metadata": {},
   "outputs": [],
   "source": []
  }
 ],
 "metadata": {
  "kernelspec": {
   "display_name": "Python 3 (ipykernel)",
   "language": "python",
   "name": "python3"
  },
  "language_info": {
   "codemirror_mode": {
    "name": "ipython",
    "version": 3
   },
   "file_extension": ".py",
   "mimetype": "text/x-python",
   "name": "python",
   "nbconvert_exporter": "python",
   "pygments_lexer": "ipython3",
   "version": "3.10.9"
  }
 },
 "nbformat": 4,
 "nbformat_minor": 5
}
