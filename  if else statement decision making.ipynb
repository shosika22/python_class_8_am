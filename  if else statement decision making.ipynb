{
 "cells": [
  {
   "cell_type": "code",
   "execution_count": 1,
   "id": "0898d881",
   "metadata": {},
   "outputs": [],
   "source": [
    "# < > <= >= == != "
   ]
  },
  {
   "cell_type": "code",
   "execution_count": null,
   "id": "c4d01b78",
   "metadata": {},
   "outputs": [],
   "source": [
    "# if <codition>:\n",
    "#<operations>\n",
    "#elif\n",
    "#   <condition>\n",
    "#<operation>\n",
    "#else:\n",
    "#    <operation>\n"
   ]
  },
  {
   "cell_type": "code",
   "execution_count": 2,
   "id": "d8d6a6df",
   "metadata": {},
   "outputs": [
    {
     "name": "stdout",
     "output_type": "stream",
     "text": [
      "enter a =10\n",
      "your age  under age\n"
     ]
    }
   ],
   "source": [
    "age =int(input('enter a ='))\n",
    "if age>10:\n",
    "    print(\"your age is greater than 10\") #  single = is called\n",
    "else:\n",
    "    print(\"your age  under age\")"
   ]
  },
  {
   "cell_type": "code",
   "execution_count": null,
   "id": "070ab023",
   "metadata": {},
   "outputs": [],
   "source": [
    "num=int(input(\"enter value of num \"))\n",
    "if num%2 ==0:\n",
    "    print(\"the given num is even\")\n",
    "else:\n",
    "    print(\"the given num is odd\")\n",
    "    "
   ]
  },
  {
   "cell_type": "code",
   "execution_count": 8,
   "id": "2214e9c3",
   "metadata": {},
   "outputs": [
    {
     "name": "stdout",
     "output_type": "stream",
     "text": [
      "enter the value of a10\n",
      "enter the value of b11\n",
      "11 is greater than 10\n"
     ]
    }
   ],
   "source": [
    "#elif is used is multiple condition\n",
    "a= int(input(\"enter the value of a\"))\n",
    "b=int(input(\"enter the value of b\"))\n",
    "if a>b:\n",
    "    print(a, \"is greater than\",b)\n",
    "elif b>a:\n",
    "    print(b,\"is greater than\", a)\n",
    "else:\n",
    "    print(a,\"and\", b, \"are equal\")\n"
   ]
  },
  {
   "cell_type": "code",
   "execution_count": 1,
   "id": "8025ba88",
   "metadata": {},
   "outputs": [
    {
     "name": "stdout",
     "output_type": "stream",
     "text": [
      "Enter Math marks: 77\n",
      "Enter Science marks: 77\n",
      "Enter English marks: 88\n",
      "Enter Nepali marks: 88\n",
      "Enter Social marks: 77\n",
      "Total Marks: 407.0\n",
      "Percentage: 81.39999999999999\n",
      "Grade: A\n"
     ]
    }
   ],
   "source": [
    "# Taking input for subject marks\n",
    "math = int(input(\"Enter Math marks: \"))\n",
    "science = float(input(\"Enter Science marks: \"))\n",
    "english = int(input(\"Enter English marks: \"))\n",
    "nepali= int(input(\"Enter Nepali marks: \"))\n",
    "social = int(input(\"Enter Social marks: \"))\n",
    "\n",
    "# Calculating total marks\n",
    "marks = math + science + english + nepali + social\n",
    "\n",
    "# Calculating percentage\n",
    "percentage = (marks / 500) * 100\n",
    "\n",
    "# Determining grade based on percentage\n",
    "if percentage >= 90:\n",
    "    grade = 'A+'\n",
    "elif percentage >= 80:\n",
    "    grade = 'A'\n",
    "elif percentage >= 70:\n",
    "    grade = 'B'\n",
    "elif percentage >= 60:\n",
    "    grade = 'C'\n",
    "elif percentage >= 50:\n",
    "    grade = 'D'\n",
    "else:\n",
    "    grade = 'Fail'\n",
    "\n",
    "# Printing total marks, percentage, and grade\n",
    "print(\"Total Marks:\", marks)\n",
    "print(\"Percentage:\", percentage)\n",
    "print(\"Grade:\", grade)\n",
    " "
   ]
  },
  {
   "cell_type": "code",
   "execution_count": 12,
   "id": "93144708",
   "metadata": {},
   "outputs": [
    {
     "name": "stdout",
     "output_type": "stream",
     "text": [
      "Welcome to Basic Calculator\n",
      "Select operation:\n",
      "1. Add\n",
      "2. Subtract\n",
      "4. Divide\n",
      "Enter choice (1/2/3/4): 1\n",
      "Enter first number: 2\n",
      "Enter second number: 3\n"
     ]
    },
    {
     "ename": "NameError",
     "evalue": "name 'divide' is not defined",
     "output_type": "error",
     "traceback": [
      "\u001b[1;31m---------------------------------------------------------------------------\u001b[0m",
      "\u001b[1;31mNameError\u001b[0m                                 Traceback (most recent call last)",
      "Cell \u001b[1;32mIn[12], line 13\u001b[0m\n\u001b[0;32m     10\u001b[0m num2 \u001b[38;5;241m=\u001b[39m \u001b[38;5;28mint\u001b[39m(\u001b[38;5;28minput\u001b[39m(\u001b[38;5;124m\"\u001b[39m\u001b[38;5;124mEnter second number: \u001b[39m\u001b[38;5;124m\"\u001b[39m))\n\u001b[0;32m     12\u001b[0m \u001b[38;5;28;01mif\u001b[39;00m choice \u001b[38;5;241m==\u001b[39m \u001b[38;5;124m'\u001b[39m\u001b[38;5;124m1\u001b[39m\u001b[38;5;124m'\u001b[39m:\n\u001b[1;32m---> 13\u001b[0m     \u001b[38;5;28mprint\u001b[39m(\u001b[38;5;124m\"\u001b[39m\u001b[38;5;124mResult:\u001b[39m\u001b[38;5;124m\"\u001b[39m,  \u001b[43mdivide\u001b[49m(num1, num2))\n\u001b[0;32m     14\u001b[0m \u001b[38;5;28;01melif\u001b[39;00m choice \u001b[38;5;241m==\u001b[39m \u001b[38;5;124m'\u001b[39m\u001b[38;5;124m2\u001b[39m\u001b[38;5;124m'\u001b[39m:\n\u001b[0;32m     15\u001b[0m     \u001b[38;5;28mprint\u001b[39m(\u001b[38;5;124m\"\u001b[39m\u001b[38;5;124mResult:\u001b[39m\u001b[38;5;124m\"\u001b[39m, subtract(num1, num2))\n",
      "\u001b[1;31mNameError\u001b[0m: name 'divide' is not defined"
     ]
    }
   ],
   "source": [
    "#wap to make basic calculator\n",
    "\n",
    "print(\"Welcome to Basic Calculator\")\n",
    "print(\"Select operation:\")\n",
    "print(\"1. Add\")\n",
    "print(\"2. Subtract\")\n",
    "print(\"4. Divide\")\n",
    "\n",
    "choice = input(\"Enter choice (1/2/3/4): \")\n",
    "\n",
    "num1 =int(input(\"Enter first number: \"))\n",
    "num2 = int(input(\"Enter second number: \"))\n",
    "\n",
    "if choice == '1':\n",
    "    print(\"Result:\",  divide(num1, num2))\n",
    "elif choice == '2':\n",
    "    print(\"Result:\", add(num1, num2))\n",
    "    print(\"Result:\", divide(num1, num2))\n",
    "else:\n",
    "    print(\"Invalid input\")\n"
   ]
  },
  {
   "cell_type": "code",
   "execution_count": null,
   "id": "797acd6f",
   "metadata": {},
   "outputs": [],
   "source": []
  }
 ],
 "metadata": {
  "kernelspec": {
   "display_name": "Python 3 (ipykernel)",
   "language": "python",
   "name": "python3"
  },
  "language_info": {
   "codemirror_mode": {
    "name": "ipython",
    "version": 3
   },
   "file_extension": ".py",
   "mimetype": "text/x-python",
   "name": "python",
   "nbconvert_exporter": "python",
   "pygments_lexer": "ipython3",
   "version": "3.10.9"
  }
 },
 "nbformat": 4,
 "nbformat_minor": 5
}
