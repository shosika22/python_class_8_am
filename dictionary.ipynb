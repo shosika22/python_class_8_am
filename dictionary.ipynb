{
 "cells": [
  {
   "cell_type": "code",
   "execution_count": null,
   "id": "5f032dc9",
   "metadata": {},
   "outputs": [],
   "source": [
    " #Dictionary\n",
    " #indexing\n",
    "#  Mutiple and duplicate data or values\n",
    "# ordered\n",
    "# # Mutable\n"
   ]
  },
  {
   "cell_type": "code",
   "execution_count": 2,
   "id": "c9fa0b6f",
   "metadata": {},
   "outputs": [
    {
     "name": "stdout",
     "output_type": "stream",
     "text": [
      "<class 'dict'>\n"
     ]
    }
   ],
   "source": [
    "#Indexing\n",
    "d = dict()\n",
    "d ={}\n",
    "print(type(d))"
   ]
  },
  {
   "cell_type": "code",
   "execution_count": 4,
   "id": "56db98c4",
   "metadata": {},
   "outputs": [
    {
     "name": "stdout",
     "output_type": "stream",
     "text": [
      "Apple\n",
      "Ball\n"
     ]
    }
   ],
   "source": [
    "#d = {<key>:<value>}\n",
    "d = {'a':'Apple','b':'Ball'}\n",
    "print(d['a'])\n",
    "print(d['b'])"
   ]
  },
  {
   "cell_type": "code",
   "execution_count": null,
   "id": "0e7a947e",
   "metadata": {},
   "outputs": [],
   "source": [
    "# + *\n",
    "d ={1:1,2:4:3:9:4:16} \n",
    "b ={'a',:'apple',:'b','ball'}"
   ]
  },
  {
   "cell_type": "code",
   "execution_count": 6,
   "id": "f58d946a",
   "metadata": {},
   "outputs": [
    {
     "data": {
      "text/plain": [
       "{'a': 'apple', 'b': 'ball', 'c': 'cat'}"
      ]
     },
     "execution_count": 6,
     "metadata": {},
     "output_type": "execute_result"
    }
   ],
   "source": [
    "a ={}\n",
    "a['a'] ='apple'\n",
    "a['b']='ball'   # abcd is key value\n",
    "a['c']='cat'\n",
    "a"
   ]
  },
  {
   "cell_type": "code",
   "execution_count": 9,
   "id": "d7398bd4",
   "metadata": {},
   "outputs": [
    {
     "name": "stdout",
     "output_type": "stream",
     "text": [
      "enter value n =2\n",
      "enter name=shosika\n",
      "enter phone=9863341512\n",
      "enter name=simran\n",
      "enter phone=9887766544\n",
      "{'shosika': 9863341512, 'simran': 9887766544}\n"
     ]
    }
   ],
   "source": [
    "a ={}\n",
    "n =int(input(\"enter value n =\"))\n",
    "for i in range(n):\n",
    "    name =input(\"enter name=\")\n",
    "    phone = int(input(\"enter phone=\"))\n",
    "    a[name] =phone\n",
    "print(a)\n",
    "                  "
   ]
  },
  {
   "cell_type": "code",
   "execution_count": 10,
   "id": "2409102c",
   "metadata": {},
   "outputs": [
    {
     "data": {
      "text/plain": [
       "9863341512"
      ]
     },
     "execution_count": 10,
     "metadata": {},
     "output_type": "execute_result"
    }
   ],
   "source": [
    "a['shosika']"
   ]
  },
  {
   "cell_type": "code",
   "execution_count": 14,
   "id": "1eca59a6",
   "metadata": {},
   "outputs": [
    {
     "name": "stdout",
     "output_type": "stream",
     "text": [
      "('shosika', 9863341512)\n",
      "('shyam', 865567777)\n",
      "('Hari', 9819054849)\n"
     ]
    }
   ],
   "source": [
    "#dictionary loop\n",
    "a ={'shosika' :9863341512, 'shyam':865567777, 'Hari' :9819054849}\n",
    "for i in a.items():\n",
    "    print(i)"
   ]
  },
  {
   "cell_type": "code",
   "execution_count": 17,
   "id": "b05269b0",
   "metadata": {},
   "outputs": [
    {
     "data": {
      "text/plain": [
       "{'shosika': 9863341512,\n",
       " 'shyam': 865567777,\n",
       " 'Hari': 9819054849,\n",
       " 'shova': 9863341512}"
      ]
     },
     "execution_count": 17,
     "metadata": {},
     "output_type": "execute_result"
    }
   ],
   "source": [
    "a ={'shosika' :9863341512, 'shyam':865567777, 'Hari' :9819054849} \n",
    "a['shova'] = 9863341512\n",
    "a"
   ]
  },
  {
   "cell_type": "code",
   "execution_count": 22,
   "id": "25243fd2",
   "metadata": {},
   "outputs": [
    {
     "data": {
      "text/plain": [
       "{'shosika': 9863341512,\n",
       " 'shyam': 865567777,\n",
       " 'Hari': 9819054849,\n",
       " 'shova': 9863341512,\n",
       " 'Nabin': 9873353434}"
      ]
     },
     "execution_count": 22,
     "metadata": {},
     "output_type": "execute_result"
    }
   ],
   "source": [
    "a ={'shosika' :9863341512, 'shyam':865567777, 'Hari' :9819054849} #update\n",
    "b ={'shova' :9863341512,'Nabin':9873353434}\n",
    "a.update(b)\n",
    "a"
   ]
  },
  {
   "cell_type": "code",
   "execution_count": null,
   "id": "77038044",
   "metadata": {},
   "outputs": [],
   "source": [
    "#delete in dict\n",
    "#del pop\n"
   ]
  },
  {
   "cell_type": "code",
   "execution_count": 23,
   "id": "bd84c2cc",
   "metadata": {},
   "outputs": [
    {
     "data": {
      "text/plain": [
       "{'shosika': 9863341512, 'Hari': 9819054849}"
      ]
     },
     "execution_count": 23,
     "metadata": {},
     "output_type": "execute_result"
    }
   ],
   "source": [
    "a ={'shosika' :9863341512, 'shyam':865567777, 'Hari' :9819054849} #update\n",
    "del a['shyam'] \n",
    "a"
   ]
  },
  {
   "cell_type": "code",
   "execution_count": 26,
   "id": "67b241f4",
   "metadata": {},
   "outputs": [
    {
     "name": "stdout",
     "output_type": "stream",
     "text": [
      "9863341512\n",
      "{'shyam': 865567777, 'Hari': 9819054849}\n"
     ]
    }
   ],
   "source": [
    "a ={'shosika' :9863341512, 'shyam':865567777, 'Hari' :9819054849} #dictionary is mutable data type \n",
    "b = a.pop('shosika') \n",
    "print(b)\n",
    "print(a)"
   ]
  },
  {
   "cell_type": "code",
   "execution_count": 27,
   "id": "416829fa",
   "metadata": {},
   "outputs": [
    {
     "data": {
      "text/plain": [
       "[9819054849, 9823567543]"
      ]
     },
     "execution_count": 27,
     "metadata": {},
     "output_type": "execute_result"
    }
   ],
   "source": [
    "# list inside ditionary\n",
    "a ={'shosika' :[9863341512,865567777], 'ram' :[9819054849,9823567543,],'hari':[65556665444,987665554444]}\n",
    "a['ram']\n"
   ]
  },
  {
   "cell_type": "code",
   "execution_count": 28,
   "id": "e64d4e67",
   "metadata": {},
   "outputs": [
    {
     "data": {
      "text/plain": [
       "{'name': ['shosika', 'shova', 'toya'],\n",
       " 'age': [23, 45, 66],\n",
       " 'add': ['ktm', 'bhktpr', 'lalitpur']}"
      ]
     },
     "execution_count": 28,
     "metadata": {},
     "output_type": "execute_result"
    }
   ],
   "source": [
    "a ={'name':['shosika','shova','toya'],\n",
    "   'age':[23,45,66],\n",
    "   'add':['ktm','bhktpr','lalitpur']}\n",
    "a"
   ]
  },
  {
   "cell_type": "code",
   "execution_count": 32,
   "id": "e4c338b5",
   "metadata": {},
   "outputs": [
    {
     "name": "stdout",
     "output_type": "stream",
     "text": [
      "enter n =2\n",
      "enter name=shosika\n",
      "enter ntc no=9834341512\n",
      "enter ncl no=9819054849\n",
      "enter name=shova\n",
      "enter ntc no=22345567\n",
      "enter ncl no=778990000\n",
      "{'shosika': [9834341512, 9819054849], 'shova': [22345567, 778990000]}\n"
     ]
    }
   ],
   "source": [
    "# a ={'shosika' :[9863341512,865567777], 'ram' :[9819054849,9823567543,],'hari':[65556665444,987665554444]}\n",
    "a ={}\n",
    "n = int(input(\"enter n =\"))\n",
    "for i in range(n):\n",
    "    name = input(\"enter name=\")\n",
    "    ntc =int(input(\"enter ntc no=\"))\n",
    "    ncl= int(input(\"enter ncl no=\"))\n",
    "    a[name]=[ntc,ncl]\n",
    "              \n",
    "print(a)"
   ]
  },
  {
   "cell_type": "code",
   "execution_count": 40,
   "id": "b865ea1b",
   "metadata": {},
   "outputs": [
    {
     "name": "stdout",
     "output_type": "stream",
     "text": [
      "enter n =2\n",
      "enter name=shosika\n",
      "enter age =22\n",
      "enter add  =ktm\n",
      "enter name=shova\n",
      "enter age =48\n",
      "enter add  =bhktpr\n",
      "{'name': ['shosika', 'shova'], 'age': [22, 48], 'add': ['ktm', 'bhktpr']}\n"
     ]
    }
   ],
   "source": [
    " #a ={'name':['shosika','shova','toya'],\n",
    "#   'age':[23,45,66],\n",
    " #  'add':['ktm','bhktpr','lalitpur']}          #using list in dictinary\n",
    "\n",
    "a ={'name':[],'age':[],'add':[]}\n",
    "n = int(input(\"enter n =\"))\n",
    "for i in range(n):\n",
    "    \n",
    "    name = input(\"enter name=\")\n",
    "    age=int(input(\"enter age =\"))\n",
    "    add= input(\"enter add  =\")\n",
    "    a['name'].append(name)\n",
    "    a['age'].append(age)\n",
    "    a['add'].append(add)\n",
    "              \n",
    "print(a)"
   ]
  },
  {
   "cell_type": "code",
   "execution_count": 42,
   "id": "fd1e73b0",
   "metadata": {},
   "outputs": [
    {
     "name": "stdout",
     "output_type": "stream",
     "text": [
      "User Information:\n",
      "Name: shosika, Age: 23, Address: ktm\n",
      "Name: shova, Age: 45, Address: bhktpr\n",
      "Name: toya, Age: 66, Address: lalitpur\n"
     ]
    }
   ],
   "source": [
    "# a ={'name':['shosika','shova','toya'],\n",
    "#   'age':[23,45,66],\n",
    "#   'add':['ktm','bhktpr','lalitpur']}\n",
    "#a\n",
    "\n",
    "def main():\n",
    "    # Define the dictionary containing lists\n",
    "    user_info = {\n",
    "        'name': ['shosika', 'shova', 'toya'],\n",
    "        'age': [23, 45, 66],\n",
    "        'add': ['ktm', 'bhktpr', 'lalitpur']\n",
    "    }\n",
    "\n",
    "    # Print the user information\n",
    "    print(\"User Information:\")\n",
    "    for i in range(len(user_info['name'])):\n",
    "        name = user_info['name'][i]\n",
    "        age = user_info['age'][i]\n",
    "        address = user_info['add'][i]\n",
    "        print(f\"Name: {name}, Age: {age}, Address: {address}\")\n",
    "\n",
    "\n",
    "if __name__ == \"__main__\":\n",
    "    main()\n",
    " "
   ]
  },
  {
   "cell_type": "code",
   "execution_count": 44,
   "id": "ea95cbcd",
   "metadata": {},
   "outputs": [
    {
     "name": "stdout",
     "output_type": "stream",
     "text": [
      "Name = shosika\n",
      "Name = 22\n",
      "Name = ktm\n"
     ]
    }
   ],
   "source": [
    "a ={'name': ['shosika', 'shova'], 'age': [22, 48], 'add': ['ktm', 'bhktpr']}\n",
    "print(\"Name =\", a['name'][0])\n",
    "print(\"Name =\",a['age'][0])\n",
    "print(\"Name =\", a['add'][0])"
   ]
  },
  {
   "cell_type": "code",
   "execution_count": 45,
   "id": "90948776",
   "metadata": {},
   "outputs": [
    {
     "data": {
      "text/plain": [
       "{'name': ['shosika', 'shova'], 'age': [33, 48], 'add': ['ktm', 'bhktpr']}"
      ]
     },
     "execution_count": 45,
     "metadata": {},
     "output_type": "execute_result"
    }
   ],
   "source": [
    "a ={'name': ['shosika', 'shova'], 'age': [22, 48], 'add': ['ktm', 'bhktpr']}\n",
    "a['age'][0]=33\n",
    "a"
   ]
  },
  {
   "cell_type": "code",
   "execution_count": 48,
   "id": "c1c9f6a6",
   "metadata": {},
   "outputs": [
    {
     "data": {
      "text/plain": [
       "{'name': ['shova'], 'age': [48], 'add': ['bhktpr']}"
      ]
     },
     "execution_count": 48,
     "metadata": {},
     "output_type": "execute_result"
    }
   ],
   "source": [
    "a ={'name': ['shosika', 'shova'],'age': [22, 48], 'add': ['ktm', 'bhktpr']}\n",
    "del a['name'][0]\n",
    "del a['age'][0]\n",
    "del a['add'][0]\n",
    "a"
   ]
  },
  {
   "cell_type": "code",
   "execution_count": 52,
   "id": "bf1a9077",
   "metadata": {},
   "outputs": [
    {
     "name": "stdout",
     "output_type": "stream",
     "text": [
      "enter index =1\n",
      "{'name': ['shosika'], 'age': [22], 'add': ['ktm']}\n"
     ]
    }
   ],
   "source": [
    "a ={'name': ['shosika', 'shova'],'age': [22, 48], 'add': ['ktm', 'bhktpr']}\n",
    "k =list(a.keys())\n",
    "index = int(input(\"enter index =\"))\n",
    "for i in a:\n",
    "    del a[i][index]\n",
    "    \n",
    "print(a)"
   ]
  },
  {
   "cell_type": "code",
   "execution_count": 55,
   "id": "c570ddfd",
   "metadata": {},
   "outputs": [
    {
     "name": "stdout",
     "output_type": "stream",
     "text": [
      "enter index = 0\n",
      "enternamesit\n",
      "enterage33\n",
      "enteraddILAM\n",
      "{'name': ['sit', 'shova'], 'age': ['33', 48], 'add': ['ILAM', 'bhktpr']}\n"
     ]
    }
   ],
   "source": [
    "a ={'name': ['shosika', 'shova'],'age': [22, 48], 'add': ['ktm', 'bhktpr']}\n",
    "\n",
    "index = int(input(\"enter index = \"))\n",
    "for i in a:\n",
    "    x = input(f\"enter{i}\")\n",
    "    a[i][index] = x\n",
    "    \n",
    "print(a)"
   ]
  },
  {
   "cell_type": "code",
   "execution_count": null,
   "id": "bcbc8ef0",
   "metadata": {},
   "outputs": [],
   "source": []
  }
 ],
 "metadata": {
  "kernelspec": {
   "display_name": "Python 3 (ipykernel)",
   "language": "python",
   "name": "python3"
  },
  "language_info": {
   "codemirror_mode": {
    "name": "ipython",
    "version": 3
   },
   "file_extension": ".py",
   "mimetype": "text/x-python",
   "name": "python",
   "nbconvert_exporter": "python",
   "pygments_lexer": "ipython3",
   "version": "3.10.9"
  }
 },
 "nbformat": 4,
 "nbformat_minor": 5
}
