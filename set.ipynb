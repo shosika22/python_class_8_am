{
 "cells": [
  {
   "cell_type": "code",
   "execution_count": null,
   "id": "818feb9d",
   "metadata": {},
   "outputs": [],
   "source": [
    "#_set\n",
    "#_No indexing\n",
    "#_multiple but no dublicate data\n",
    "#_unordered\n",
    "#_mutuable\n"
   ]
  },
  {
   "cell_type": "code",
   "execution_count": 1,
   "id": "b31f8bda",
   "metadata": {},
   "outputs": [
    {
     "name": "stdout",
     "output_type": "stream",
     "text": [
      "<class 'set'>\n"
     ]
    }
   ],
   "source": [
    "s= set()     #set ma ni{} curly bracket use hunx but key value pardaina\n",
    "print(type(s))"
   ]
  },
  {
   "cell_type": "code",
   "execution_count": 2,
   "id": "7c160b96",
   "metadata": {},
   "outputs": [
    {
     "name": "stdout",
     "output_type": "stream",
     "text": [
      "{'ball', 'apple', 'cat'}\n"
     ]
    }
   ],
   "source": [
    "a ={\"apple\",\"ball\",\"cat\"}  #yesko value random basdaina \n",
    "print(a)                    #unordered value"
   ]
  },
  {
   "cell_type": "code",
   "execution_count": 3,
   "id": "44e1eec7",
   "metadata": {},
   "outputs": [
    {
     "data": {
      "text/plain": [
       "{'apple', 'ball', 'cat'}"
      ]
     },
     "execution_count": 3,
     "metadata": {},
     "output_type": "execute_result"
    }
   ],
   "source": [
    "a ={\"apple\",\"ball\",\"cat\",\"apple\",\"cat\",\"ball\"}    #collection of unique data is called set\n",
    "a                                                  #mutuable data"
   ]
  },
  {
   "cell_type": "code",
   "execution_count": 4,
   "id": "1251f82a",
   "metadata": {},
   "outputs": [
    {
     "name": "stdout",
     "output_type": "stream",
     "text": [
      "{0, 1, 2, 3, 4, 5, 6, 7, 8, 9}\n"
     ]
    }
   ],
   "source": [
    "s ={1,2,3,4,5,6,7,8,9,0}\n",
    "print(s)"
   ]
  },
  {
   "cell_type": "code",
   "execution_count": 7,
   "id": "a0e1de41",
   "metadata": {},
   "outputs": [],
   "source": [
    "s ={1,2,3,4,5,6,7,8,9,\".apple\"}"
   ]
  },
  {
   "cell_type": "code",
   "execution_count": null,
   "id": "5c9fdf09",
   "metadata": {},
   "outputs": [],
   "source": [
    "s ={} #yesari dictionary hunxa \n",
    "s{1} # yo set hunx 1 halda"
   ]
  },
  {
   "cell_type": "code",
   "execution_count": 8,
   "id": "949431e9",
   "metadata": {},
   "outputs": [
    {
     "data": {
      "text/plain": [
       "dict"
      ]
     },
     "execution_count": 8,
     "metadata": {},
     "output_type": "execute_result"
    }
   ],
   "source": [
    "s ={}\n",
    "type(s)"
   ]
  },
  {
   "cell_type": "code",
   "execution_count": 9,
   "id": "3534a20d",
   "metadata": {},
   "outputs": [
    {
     "data": {
      "text/plain": [
       "set"
      ]
     },
     "execution_count": 9,
     "metadata": {},
     "output_type": "execute_result"
    }
   ],
   "source": [
    "s ={1}\n",
    "type(s)"
   ]
  },
  {
   "cell_type": "code",
   "execution_count": 15,
   "id": "6e8da0e2",
   "metadata": {},
   "outputs": [
    {
     "data": {
      "text/plain": [
       "{1, 'apple', 'ball', 'cat'}"
      ]
     },
     "execution_count": 15,
     "metadata": {},
     "output_type": "execute_result"
    }
   ],
   "source": [
    "s =set()\n",
    "s.add(\"apple\")\n",
    "s.add(\"ball\")\n",
    "s.add(\"cat\")\n",
    "s.add(1)\n",
    "s.add(\"apple\")\n",
    "s"
   ]
  },
  {
   "cell_type": "code",
   "execution_count": 18,
   "id": "463b15ac",
   "metadata": {},
   "outputs": [
    {
     "data": {
      "text/plain": [
       "{'.apple', 1, 2, 3, 4, 5, 6, 7, 8}"
      ]
     },
     "execution_count": 18,
     "metadata": {},
     "output_type": "execute_result"
    }
   ],
   "source": [
    "a={\".apple\",1,2,3,4,5,5,6,7,8,\"apple\"}\n",
    "a.remove(\"apple\")\n",
    "a"
   ]
  },
  {
   "cell_type": "code",
   "execution_count": 22,
   "id": "78612a69",
   "metadata": {},
   "outputs": [
    {
     "name": "stdout",
     "output_type": "stream",
     "text": [
      "ball\n",
      "dog\n",
      "apple\n",
      "cat\n"
     ]
    }
   ],
   "source": [
    "s ={\"apple\",\"ball\",\"cat\",\"dog\"}\n",
    "for i in s:\n",
    "    print(i)"
   ]
  },
  {
   "cell_type": "code",
   "execution_count": 25,
   "id": "f2f4b443",
   "metadata": {},
   "outputs": [
    {
     "name": "stdout",
     "output_type": "stream",
     "text": [
      "Both in apple and ms =  {'ram', 'kamal'}\n"
     ]
    }
   ],
   "source": [
    "#set for math\n",
    "apple={\"ram\",\"hari\",\"jack\",\"john\",\"karne\",\"kamal\"}\n",
    "ms = {\"ram\",\"bill\",\"satya\",\"sita\",\"hary\",\"kamal\"}\n",
    "\n",
    "print(\"Both in apple and ms = \", apple.intersection(ms))\n"
   ]
  },
  {
   "cell_type": "code",
   "execution_count": 26,
   "id": "ca317561",
   "metadata": {},
   "outputs": [
    {
     "name": "stdout",
     "output_type": "stream",
     "text": [
      "boh combines = {'ram', 'kamal', 'bill', 'hari', 'sita', 'john', 'jack', 'karne', 'satya', 'hary'}\n"
     ]
    }
   ],
   "source": [
    "print(\"both combines =\", apple.union(ms))"
   ]
  },
  {
   "cell_type": "code",
   "execution_count": 27,
   "id": "dd3b613a",
   "metadata": {},
   "outputs": [
    {
     "name": "stdout",
     "output_type": "stream",
     "text": [
      "only apple {'john', 'jack', 'karne', 'hari'}\n"
     ]
    }
   ],
   "source": [
    "print(\"only apple\",apple - ms)"
   ]
  },
  {
   "cell_type": "code",
   "execution_count": 31,
   "id": "da3bf013",
   "metadata": {},
   "outputs": [
    {
     "name": "stdout",
     "output_type": "stream",
     "text": [
      "Only ms {'sita', 'bill', 'satya', 'hary'}\n"
     ]
    }
   ],
   "source": [
    "print(\"Only ms\",  ms - apple)"
   ]
  },
  {
   "cell_type": "code",
   "execution_count": null,
   "id": "3c573c06",
   "metadata": {},
   "outputs": [],
   "source": []
  }
 ],
 "metadata": {
  "kernelspec": {
   "display_name": "Python 3 (ipykernel)",
   "language": "python",
   "name": "python3"
  },
  "language_info": {
   "codemirror_mode": {
    "name": "ipython",
    "version": 3
   },
   "file_extension": ".py",
   "mimetype": "text/x-python",
   "name": "python",
   "nbconvert_exporter": "python",
   "pygments_lexer": "ipython3",
   "version": "3.10.9"
  }
 },
 "nbformat": 4,
 "nbformat_minor": 5
}
