{
 "cells": [
  {
   "cell_type": "code",
   "execution_count": null,
   "id": "b6334292",
   "metadata": {},
   "outputs": [],
   "source": [
    "# nested list\n",
    "info = [['Ram',34,\"Kathmandu\"],\n",
    "       ['shyam',67,\"lilitpur\"] ,\n",
    "       []\n",
    "    \n",
    "       ]"
   ]
  },
  {
   "cell_type": "code",
   "execution_count": 1,
   "id": "b5dc9866",
   "metadata": {},
   "outputs": [
    {
     "ename": "NameError",
     "evalue": "name 'info' is not defined",
     "output_type": "error",
     "traceback": [
      "\u001b[1;31m---------------------------------------------------------------------------\u001b[0m",
      "\u001b[1;31mNameError\u001b[0m                                 Traceback (most recent call last)",
      "Cell \u001b[1;32mIn[1], line 1\u001b[0m\n\u001b[1;32m----> 1\u001b[0m \u001b[43minfo\u001b[49m[\u001b[38;5;241m0\u001b[39m]\n",
      "\u001b[1;31mNameError\u001b[0m: name 'info' is not defined"
     ]
    }
   ],
   "source": [
    "info[0]"
   ]
  },
  {
   "cell_type": "code",
   "execution_count": 13,
   "id": "6d2619a4",
   "metadata": {},
   "outputs": [
    {
     "name": "stdout",
     "output_type": "stream",
     "text": [
      "enter n =2\n",
      "enter name =shosika\n",
      "enter age =22\n",
      "enter address =ktm\n"
     ]
    },
    {
     "ename": "NameError",
     "evalue": "name 'ifno' is not defined",
     "output_type": "error",
     "traceback": [
      "\u001b[1;31m---------------------------------------------------------------------------\u001b[0m",
      "\u001b[1;31mNameError\u001b[0m                                 Traceback (most recent call last)",
      "Cell \u001b[1;32mIn[13], line 8\u001b[0m\n\u001b[0;32m      6\u001b[0m     add \u001b[38;5;241m=\u001b[39m \u001b[38;5;28minput\u001b[39m(\u001b[38;5;124m\"\u001b[39m\u001b[38;5;124menter address =\u001b[39m\u001b[38;5;124m\"\u001b[39m)\n\u001b[0;32m      7\u001b[0m     x \u001b[38;5;241m=\u001b[39m[name,age,add]\n\u001b[1;32m----> 8\u001b[0m     \u001b[43mifno\u001b[49m\u001b[38;5;241m.\u001b[39mappend(x)\n\u001b[0;32m      9\u001b[0m \u001b[38;5;28mprint\u001b[39m(info)\n",
      "\u001b[1;31mNameError\u001b[0m: name 'ifno' is not defined"
     ]
    }
   ],
   "source": [
    "info = []\n",
    "n = int(input(\"enter n =\"))   #this is multidimension array python ma chai array xuttai hunna\n",
    "for i in range(n):\n",
    "    name = input(\"enter name =\")\n",
    "    age = input(\"enter age =\")\n",
    "    add = input(\"enter address =\")\n",
    "    x =[name,age,add]\n",
    "    ifno.append(x)\n",
    "print(info)"
   ]
  },
  {
   "cell_type": "code",
   "execution_count": 12,
   "id": "915e2032",
   "metadata": {},
   "outputs": [],
   "source": [
    "info.append(['hari',34, 'bhaktapur'])\n"
   ]
  },
  {
   "cell_type": "code",
   "execution_count": 7,
   "id": "d9ffc378",
   "metadata": {},
   "outputs": [
    {
     "data": {
      "text/plain": [
       "[]"
      ]
     },
     "execution_count": 7,
     "metadata": {},
     "output_type": "execute_result"
    }
   ],
   "source": [
    "info"
   ]
  },
  {
   "cell_type": "code",
   "execution_count": 19,
   "id": "016f5952",
   "metadata": {},
   "outputs": [
    {
     "ename": "IndexError",
     "evalue": "list assignment index out of range",
     "output_type": "error",
     "traceback": [
      "\u001b[1;31m---------------------------------------------------------------------------\u001b[0m",
      "\u001b[1;31mIndexError\u001b[0m                                Traceback (most recent call last)",
      "Cell \u001b[1;32mIn[19], line 2\u001b[0m\n\u001b[0;32m      1\u001b[0m \u001b[38;5;66;03m#update\u001b[39;00m\n\u001b[1;32m----> 2\u001b[0m info[\u001b[38;5;241m0\u001b[39m] \u001b[38;5;241m=\u001b[39m[\u001b[38;5;124m'\u001b[39m\u001b[38;5;124mRama\u001b[39m\u001b[38;5;124m'\u001b[39m,\u001b[38;5;241m35\u001b[39m,\u001b[38;5;124m'\u001b[39m\u001b[38;5;124mdhading\u001b[39m\u001b[38;5;124m'\u001b[39m]\n\u001b[0;32m      3\u001b[0m info\n",
      "\u001b[1;31mIndexError\u001b[0m: list assignment index out of range"
     ]
    }
   ],
   "source": [
    "#update\n",
    "info[0] =['Rama',35,'dhading']\n",
    "info"
   ]
  },
  {
   "cell_type": "code",
   "execution_count": 20,
   "id": "45f76d9f",
   "metadata": {},
   "outputs": [
    {
     "ename": "IndexError",
     "evalue": "list index out of range",
     "output_type": "error",
     "traceback": [
      "\u001b[1;31m---------------------------------------------------------------------------\u001b[0m",
      "\u001b[1;31mIndexError\u001b[0m                                Traceback (most recent call last)",
      "Cell \u001b[1;32mIn[20], line 1\u001b[0m\n\u001b[1;32m----> 1\u001b[0m \u001b[43minfo\u001b[49m\u001b[43m[\u001b[49m\u001b[38;5;241;43m0\u001b[39;49m\u001b[43m]\u001b[49m[\u001b[38;5;241m0\u001b[39m] \u001b[38;5;241m=\u001b[39m \u001b[38;5;124m'\u001b[39m\u001b[38;5;124mRam\u001b[39m\u001b[38;5;124m'\u001b[39m\n\u001b[0;32m      2\u001b[0m info\n",
      "\u001b[1;31mIndexError\u001b[0m: list index out of range"
     ]
    }
   ],
   "source": [
    "info[0][0] = 'Ram'\n",
    "info"
   ]
  },
  {
   "cell_type": "code",
   "execution_count": 22,
   "id": "3044676d",
   "metadata": {},
   "outputs": [
    {
     "data": {
      "text/plain": [
       "[['Shyam', 35, 'pokhara'], ['Hari', 35, 'bhaktapur']]"
      ]
     },
     "execution_count": 22,
     "metadata": {},
     "output_type": "execute_result"
    }
   ],
   "source": [
    "#delete\n",
    "a = [['Rama',35,'dhading'],['Shyam',35,'pokhara'],['Hari',35,'bhaktapur']] \n",
    "del a [0]\n",
    "a"
   ]
  },
  {
   "cell_type": "code",
   "execution_count": 25,
   "id": "6957e114",
   "metadata": {},
   "outputs": [
    {
     "name": "stdout",
     "output_type": "stream",
     "text": [
      "[['Shyam', 35, 'pokhara'], ['Hari', 35, 'bhaktapur']]\n",
      "['Rama', 35, 'dhading']\n"
     ]
    }
   ],
   "source": [
    "a =[['Rama',35,'dhading'],['Shyam',35,'pokhara'],['Hari',35,'bhaktapur']] \n",
    "b = a.pop(0)\n",
    "print(a)\n",
    "print(b)"
   ]
  },
  {
   "cell_type": "code",
   "execution_count": 29,
   "id": "ca0f3e4c",
   "metadata": {},
   "outputs": [
    {
     "name": "stdout",
     "output_type": "stream",
     "text": [
      "enter name=Rama\n",
      "['Rama', 35, 'dhading']\n"
     ]
    }
   ],
   "source": [
    "#Search in list inside list\n",
    "a=[['Rama',35,'dhading'],['Shyam',35,'pokhara'],['Hari',35,'bhaktapur']]\n",
    "name= input(\"enter name=\")\n",
    "for i in a:\n",
    "    if name  in i:\n",
    "        print(i)\n",
    "\n"
   ]
  },
  {
   "cell_type": "code",
   "execution_count": 32,
   "id": "961b1aea",
   "metadata": {},
   "outputs": [
    {
     "name": "stdout",
     "output_type": "stream",
     "text": [
      "enter name =Hari\n",
      "2\n"
     ]
    }
   ],
   "source": [
    "#Search in list inside list\n",
    "a=[['Rama',35,'dhading'],['Shyam',35,'pokhara'],['Hari',35,'bhaktapur']]\n",
    "name= input(\"enter name =\")\n",
    "l =len(a)\n",
    "for i in range(l):\n",
    "    if name  in a[i]:\n",
    "        print(i)\n",
    "\n"
   ]
  },
  {
   "cell_type": "code",
   "execution_count": 35,
   "id": "d9e1ce30",
   "metadata": {},
   "outputs": [],
   "source": [
    "# r-> ?\n",
    "# c -> ?\n",
    "# x => ?\n",
    "a =[[1,2,3,4],\n",
    "   [4,5 ,6],\n",
    "   [7,8,9]]\n",
    " "
   ]
  },
  {
   "cell_type": "code",
   "execution_count": 43,
   "id": "536677d6",
   "metadata": {},
   "outputs": [
    {
     "name": "stdout",
     "output_type": "stream",
     "text": [
      "enter  r = 2\n",
      "enter  c = 3\n",
      "enter x=ram\n",
      "enter x=shyam\n",
      "enter x=kathmandu\n",
      "enter x=hari\n",
      "enter x=45\n",
      "enter x=23\n",
      "[]\n"
     ]
    }
   ],
   "source": [
    "m =[]\n",
    "r =int(input(\"enter  r = \"))\n",
    "c =int(input(\"enter  c = \"))\n",
    "\n",
    "for i in range(r):\n",
    "    y =[]\n",
    "    for j in range (c):\n",
    "        x = input(\"enter x=\")\n",
    "        y.append(y)\n",
    "    \n",
    "print(m)"
   ]
  },
  {
   "cell_type": "markdown",
   "id": "bb6a3e8d",
   "metadata": {},
   "source": [
    "##### "
   ]
  },
  {
   "cell_type": "code",
   "execution_count": null,
   "id": "17a4cbb6",
   "metadata": {},
   "outputs": [],
   "source": []
  }
 ],
 "metadata": {
  "kernelspec": {
   "display_name": "Python 3 (ipykernel)",
   "language": "python",
   "name": "python3"
  },
  "language_info": {
   "codemirror_mode": {
    "name": "ipython",
    "version": 3
   },
   "file_extension": ".py",
   "mimetype": "text/x-python",
   "name": "python",
   "nbconvert_exporter": "python",
   "pygments_lexer": "ipython3",
   "version": "3.10.9"
  }
 },
 "nbformat": 4,
 "nbformat_minor": 5
}
