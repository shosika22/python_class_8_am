{
 "cells": [
  {
   "cell_type": "code",
   "execution_count": 1,
   "id": "99ed1914",
   "metadata": {},
   "outputs": [
    {
     "name": "stdout",
     "output_type": "stream",
     "text": [
      "<class 'str'>\n",
      "<class 'str'>\n",
      "<class 'str'>\n"
     ]
    }
   ],
   "source": [
    "a ='Hello World'\n",
    "b=\"Hello World\"\n",
    "c ='''Hello World'''\n",
    "print (type(a))\n",
    "print (type(b))\n",
    "print (type(c))"
   ]
  },
  {
   "cell_type": "code",
   "execution_count": 2,
   "id": "e54eabe6",
   "metadata": {},
   "outputs": [
    {
     "name": "stdout",
     "output_type": "stream",
     "text": [
      "Hello World\n"
     ]
    }
   ],
   "source": [
    "a =\"Hello\"\n",
    "b=\" World\"\n",
    "c =a + b\n",
    "print(c)\n"
   ]
  },
  {
   "cell_type": "code",
   "execution_count": 3,
   "id": "cb814feb",
   "metadata": {},
   "outputs": [
    {
     "name": "stdout",
     "output_type": "stream",
     "text": [
      "Hello world\n",
      "Hello world\n",
      "\n"
     ]
    }
   ],
   "source": [
    "a =\"Hello world\\n\"\n",
    "print(a* 2)\n"
   ]
  },
  {
   "cell_type": "code",
   "execution_count": 4,
   "id": "f9c551a6",
   "metadata": {},
   "outputs": [
    {
     "name": "stdout",
     "output_type": "stream",
     "text": [
      "Hello World"
     ]
    }
   ],
   "source": [
    "a =\"Hello World\"\n",
    "for i in a:\n",
    "    print(i,end=\"\")"
   ]
  },
  {
   "cell_type": "code",
   "execution_count": 5,
   "id": "d81684d2",
   "metadata": {},
   "outputs": [
    {
     "name": "stdout",
     "output_type": "stream",
     "text": [
      "H\n",
      "Hello\n",
      "HloWr\n"
     ]
    }
   ],
   "source": [
    "a= \"Hello World\"\n",
    "print(a[0])\n",
    "print(a[0:5])\n",
    "print(a[0:10:2])"
   ]
  },
  {
   "cell_type": "code",
   "execution_count": 6,
   "id": "342f91a1",
   "metadata": {},
   "outputs": [
    {
     "name": "stdout",
     "output_type": "stream",
     "text": [
      " World\n"
     ]
    }
   ],
   "source": [
    "a=\"Hello World\"\n",
    "print(a[5:]) # 5th dekhi baki sab print garxa"
   ]
  },
  {
   "cell_type": "code",
   "execution_count": 16,
   "id": "33a9ba14",
   "metadata": {
    "scrolled": true
   },
   "outputs": [
    {
     "name": "stdout",
     "output_type": "stream",
     "text": [
      "d\n"
     ]
    }
   ],
   "source": [
    "a = \"Hello World\" # paxadi bata count garxa \n",
    "print(a [-1])\n"
   ]
  },
  {
   "cell_type": "code",
   "execution_count": 17,
   "id": "99a5c815",
   "metadata": {},
   "outputs": [
    {
     "name": "stdout",
     "output_type": "stream",
     "text": [
      "dlroW olleH\n",
      "dlroW olleH\n"
     ]
    }
   ],
   "source": [
    "a = \"Hello World\"\n",
    "print(a[-1:-12:-1])\n"
   ]
  },
  {
   "cell_type": "code",
   "execution_count": 18,
   "id": "13a0d796",
   "metadata": {},
   "outputs": [
    {
     "name": "stdout",
     "output_type": "stream",
     "text": [
      "dlroW olleH\n"
     ]
    }
   ],
   "source": [
    "a = \"Hello World\"\n",
    "print(a[::-1])"
   ]
  },
  {
   "cell_type": "code",
   "execution_count": 11,
   "id": "42c1aec5",
   "metadata": {},
   "outputs": [
    {
     "name": "stdout",
     "output_type": "stream",
     "text": [
      "H\n",
      "e\n",
      "l\n",
      "l\n",
      "o\n",
      " \n",
      "w\n",
      "o\n",
      "r\n",
      "l\n",
      "d\n"
     ]
    }
   ],
   "source": [
    "a =\"Hello world\"\n",
    "l =len(a)                   \n",
    "l \n",
    "for i in range(11):\n",
    "    print(a[i])"
   ]
  },
  {
   "cell_type": "code",
   "execution_count": 14,
   "id": "7d80897a",
   "metadata": {},
   "outputs": [
    {
     "name": "stdout",
     "output_type": "stream",
     "text": [
      "H\n",
      "e\n",
      "l\n",
      "l\n",
      "o\n",
      " \n",
      "w\n",
      "o\n",
      "r\n",
      "l\n",
      "d\n"
     ]
    }
   ],
   "source": [
    "#While loop\n",
    "i =0\n",
    "l =len(a)\n",
    "while i<l:\n",
    "    print(a[i])\n",
    "    i =i +1"
   ]
  },
  {
   "cell_type": "code",
   "execution_count": 15,
   "id": "290bd1a4",
   "metadata": {},
   "outputs": [
    {
     "name": "stdout",
     "output_type": "stream",
     "text": [
      "hello world  I amram i am fromkathmandu i am10\n"
     ]
    }
   ],
   "source": [
    "#important string formatting\n",
    "                             # this way is not used in program\n",
    "name =\"ram\"\n",
    "age=10\n",
    "add=\"kathmandu\"\n",
    "info =\"hello world  I am\" + name + \" i am from\" + str(add) + \" i am\" + str(age)\n",
    "print(info)"
   ]
  },
  {
   "cell_type": "code",
   "execution_count": 17,
   "id": "94705aff",
   "metadata": {},
   "outputs": [
    {
     "name": "stdout",
     "output_type": "stream",
     "text": [
      "hello world  I am ram I am from kathmandu I am 10.\n"
     ]
    }
   ],
   "source": [
    "name=\"ram\"                           # this way is not used in programnname =\"ram\"\n",
    "age=10\n",
    "add=\"kathmandu\"\n",
    "info =f\"hello world  I am {name} I am from {add} I am {age}.\" # f is called formatting\n",
    "print(info)"
   ]
  },
  {
   "cell_type": "code",
   "execution_count": 19,
   "id": "e0982c45",
   "metadata": {},
   "outputs": [
    {
     "name": "stdout",
     "output_type": "stream",
     "text": [
      "enter n=2\n",
      "enter name=sita\n",
      "enter price =44\n",
      "enter price =66\n",
      "enter name=ram\n",
      "enter price =66\n",
      "enter price =77\n",
      "sita 44 66 2904 \n",
      "ram 66 77 5082 \n",
      "\n",
      "7986\n"
     ]
    }
   ],
   "source": [
    "bill=\"\"\n",
    "all_total =0\n",
    "n =  int(input(\"enter n=\"))\n",
    "for i in range(n):\n",
    "    name = input(\"enter name=\")\n",
    "    price = int(input(\"enter price =\"))\n",
    "    quantity= int(input(\"enter price =\"))\n",
    "    total =  price *  quantity\n",
    "    bill = bill + f\"{name} {price} {quantity} {total} \\n\"\n",
    "    all_total = all_total + total\n",
    "    \n",
    "print(bill)\n",
    "print(all_total)\n"
   ]
  },
  {
   "cell_type": "code",
   "execution_count": 2,
   "id": "773282b6",
   "metadata": {},
   "outputs": [
    {
     "name": "stdout",
     "output_type": "stream",
     "text": [
      "Enter name =Sita\n",
      "yes 1\n"
     ]
    }
   ],
   "source": [
    "a = \"Ram Shyam Hari Sita Gita\"\n",
    "search =input(\"Enter name =\")\n",
    "if search in a:\n",
    "    print(\"yes\", a.count(search))\n",
    "else:\n",
    "    print(\"no\")\n",
    "    "
   ]
  },
  {
   "cell_type": "code",
   "execution_count": 3,
   "id": "74670f0b",
   "metadata": {},
   "outputs": [
    {
     "name": "stdout",
     "output_type": "stream",
     "text": [
      "ram shyam hari sita gita\n",
      "RAM SHYAM HARI SITA GITA\n"
     ]
    }
   ],
   "source": [
    "a = \"Ram Shyam Hari Sita Gita\"\n",
    "print(a.lower())\n",
    "print(a.upper())"
   ]
  },
  {
   "cell_type": "code",
   "execution_count": 15,
   "id": "5588bfb5",
   "metadata": {},
   "outputs": [
    {
     "name": "stdout",
     "output_type": "stream",
     "text": [
      "Enter name =ram\n",
      "Yes 1\n"
     ]
    }
   ],
   "source": [
    "a = \"ram shyam hari sita gita\".upper()\n",
    "search =input(\"Enter name =\").upper()\n",
    "if search in a:\n",
    "    print(\"Yes\", a.count(search))\n",
    "else:\n",
    "    print(\"No\")\n",
    "    "
   ]
  },
  {
   "cell_type": "code",
   "execution_count": 2,
   "id": "b8b1af23",
   "metadata": {},
   "outputs": [
    {
     "name": "stdout",
     "output_type": "stream",
     "text": [
      "no\n"
     ]
    }
   ],
   "source": [
    "a = \"Ram Shyam Hari Sita Gita\"\n",
    "if \"Nabin\" not in a:\n",
    "    print(\"no\")\n",
    "    "
   ]
  },
  {
   "cell_type": "code",
   "execution_count": 4,
   "id": "cd5d4920",
   "metadata": {},
   "outputs": [
    {
     "name": "stdout",
     "output_type": "stream",
     "text": [
      "Ram Shyam Hari Sita Gita\n"
     ]
    }
   ],
   "source": [
    "a = \"Ram Shyam Hari Sita Gita\"\n",
    "print (a.title())"
   ]
  },
  {
   "cell_type": "code",
   "execution_count": 6,
   "id": "b3f123c2",
   "metadata": {},
   "outputs": [
    {
     "name": "stdout",
     "output_type": "stream",
     "text": [
      "False\n",
      "True\n"
     ]
    }
   ],
   "source": [
    "a = \"ram shyam hari sita gita\"\n",
    "print(a.isupper())\n",
    "print(a.islower())"
   ]
  },
  {
   "cell_type": "code",
   "execution_count": 4,
   "id": "41d9898d",
   "metadata": {},
   "outputs": [
    {
     "name": "stdout",
     "output_type": "stream",
     "text": [
      "True\n"
     ]
    }
   ],
   "source": [
    "a =\"Ram\"\n",
    "print(a[0].isupper())"
   ]
  },
  {
   "cell_type": "code",
   "execution_count": 7,
   "id": "9e345ef5",
   "metadata": {},
   "outputs": [
    {
     "name": "stdout",
     "output_type": "stream",
     "text": [
      "rama Shyam Hari Sita Gita\n"
     ]
    }
   ],
   "source": [
    "#Replace Function\n",
    "a = \"Ram Shyam Hari Sita Gita\"\n",
    "a =a.replace('Ram','rama')\n",
    "print(a)"
   ]
  },
  {
   "cell_type": "code",
   "execution_count": 2,
   "id": "2547d272",
   "metadata": {},
   "outputs": [
    {
     "name": "stdout",
     "output_type": "stream",
     "text": [
      " Shyam Hari Sita Gita\n"
     ]
    }
   ],
   "source": [
    "#Replace Function\n",
    "a = \"Ram Shyam Hari Sita Gita\"\n",
    "a =a.replace('Ram','') # dlt string function immutable function ma dlt vanne function ni hunna\n",
    "print(a)"
   ]
  },
  {
   "cell_type": "code",
   "execution_count": 4,
   "id": "4059dc36",
   "metadata": {},
   "outputs": [
    {
     "name": "stdout",
     "output_type": "stream",
     "text": [
      "Ram  Hari Sita Gita\n"
     ]
    }
   ],
   "source": [
    "#Replace Function\n",
    "a = \"Ram Shyam Hari Sita Gita\"\n",
    "a =a.replace('Shyam','') # dlt string function immutable function ma dlt vanne function ni hunna\n",
    "print(a)"
   ]
  },
  {
   "cell_type": "code",
   "execution_count": 1,
   "id": "cd5a1ca4",
   "metadata": {},
   "outputs": [
    {
     "data": {
      "text/plain": [
       "'C:\\\\Users\\\\user\\\\python_8_am'"
      ]
     },
     "execution_count": 1,
     "metadata": {},
     "output_type": "execute_result"
    }
   ],
   "source": [
    "pwd"
   ]
  },
  {
   "cell_type": "code",
   "execution_count": null,
   "id": "8a3ce600",
   "metadata": {},
   "outputs": [],
   "source": []
  }
 ],
 "metadata": {
  "kernelspec": {
   "display_name": "Python 3 (ipykernel)",
   "language": "python",
   "name": "python3"
  },
  "language_info": {
   "codemirror_mode": {
    "name": "ipython",
    "version": 3
   },
   "file_extension": ".py",
   "mimetype": "text/x-python",
   "name": "python",
   "nbconvert_exporter": "python",
   "pygments_lexer": "ipython3",
   "version": "3.10.9"
  }
 },
 "nbformat": 4,
 "nbformat_minor": 5
}
