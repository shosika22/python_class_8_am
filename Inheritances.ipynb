{
 "cells": [
  {
   "cell_type": "code",
   "execution_count": 1,
   "id": "b2d2d8c1",
   "metadata": {},
   "outputs": [],
   "source": [
    "# # oop\n",
    "# class <class_name1>:\n",
    "#     <method>\n",
    "# class <class_name2>: (<class_name1>):\n",
    "#     <methods>\n",
    "    \n",
    "# obj = <class_name2>()\n"
   ]
  },
  {
   "cell_type": "code",
   "execution_count": 2,
   "id": "85bc40b7",
   "metadata": {},
   "outputs": [],
   "source": [
    "class A:     #parent class\n",
    "    pass\n",
    "\n",
    "class B(A):    #child class\n",
    "    pass\n",
    "\n",
    "obj = B()"
   ]
  },
  {
   "cell_type": "code",
   "execution_count": 3,
   "id": "f0c82233",
   "metadata": {},
   "outputs": [
    {
     "name": "stdout",
     "output_type": "stream",
     "text": [
      "Hello World I am Ram. I am from pokhara. i am 33\n",
      "Ram 33 pokhara\n"
     ]
    }
   ],
   "source": [
    "class Data:\n",
    "    def __init__(self):\n",
    "        self.name = \"Ram\"\n",
    "        self.age = 33\n",
    "        self.add = \"pokhara\"\n",
    "        \n",
    "    def data(self):\n",
    "        print(self.name,self.age,self.add)\n",
    "        \n",
    "class Info(Data):\n",
    "    def info(self):\n",
    "        print(f\"Hello World I am {self.name}. I am from {self.add}. i am {self.age}\")\n",
    "        \n",
    "obj =Info()        \n",
    "obj.info()\n",
    "obj.data()"
   ]
  },
  {
   "cell_type": "code",
   "execution_count": 4,
   "id": "3fadc3f8",
   "metadata": {},
   "outputs": [
    {
     "name": "stdout",
     "output_type": "stream",
     "text": [
      "enter name=shosika\n",
      "enter age=22\n",
      "enter add=kathmandu\n",
      "Hello World I am ram. I am from kathmandu. i am 32\n",
      "ram 32 kathmandu\n"
     ]
    }
   ],
   "source": [
    "class Data:\n",
    "    def __init__(self):\n",
    "        self.name = \"ram\"\n",
    "        self.age = 32\n",
    "        self.add = \"kathmandu\"\n",
    "        \n",
    "    def data(self):\n",
    "        print(self.name,self.age,self.add)\n",
    "        \n",
    "class Info(Data):\n",
    "    def info(self):\n",
    "        print(f\"Hello World I am {self.name}. I am from {self.add}. i am {self.age}\")\n",
    "\n",
    "    \n",
    "name = input(\"enter name=\")\n",
    "age = int(input(\"enter age=\"))\n",
    "add = input(\"enter add=\")\n",
    "    \n",
    "        \n",
    "obj =Info()        \n",
    "obj.info()\n",
    "obj.data()"
   ]
  },
  {
   "cell_type": "code",
   "execution_count": 8,
   "id": "9706bac9",
   "metadata": {},
   "outputs": [
    {
     "name": "stdout",
     "output_type": "stream",
     "text": [
      "enter name=shosi\n",
      "enter age=22\n",
      "enter add=ktm\n",
      "Hello World I am shosi. I am from ktm. i am 22\n",
      "ktm\n"
     ]
    }
   ],
   "source": [
    "class Data:\n",
    "    def __init__(self,add):\n",
    "        self.add = add\n",
    "       \n",
    "    def data(self):\n",
    "        print(self.add)\n",
    "        \n",
    "class Info(Data):\n",
    "    def __init__(self,name,age,add):\n",
    "        self.name = name\n",
    "        self.age = age\n",
    "        Data.__init__(self,add)\n",
    "        \n",
    "    def info (self):\n",
    "        print(f\"Hello World I am {self.name}. I am from {self.add}. i am {self.age}\")\n",
    "\n",
    "    \n",
    "name = input(\"enter name=\")\n",
    "age = int(input(\"enter age=\"))\n",
    "add = input(\"enter add=\")\n",
    "    \n",
    "obj = Info(name,age,add)\n",
    "obj.info()\n",
    "obj.data()"
   ]
  },
  {
   "cell_type": "code",
   "execution_count": null,
   "id": "5adceb0a",
   "metadata": {},
   "outputs": [],
   "source": [
    "# multi level  inhheritances\n",
    "\n",
    "class A:\n",
    "    pass \n",
    "\n",
    "class B(A):\n",
    "    pass\n",
    "\n",
    "class C(B):\n",
    "    pass\n",
    "\n",
    "obj = C()"
   ]
  },
  {
   "cell_type": "code",
   "execution_count": null,
   "id": "b4e80a6b",
   "metadata": {},
   "outputs": [],
   "source": [
    "# mutliple \n",
    "class A:\n",
    "    pass\n",
    "\n",
    "class B(A):\n",
    "    pass\n",
    "\n",
    "class C(A,B):\n",
    "    pass\n",
    "\n",
    "obj = C()\n",
    "    "
   ]
  },
  {
   "cell_type": "code",
   "execution_count": null,
   "id": "33c7c38f",
   "metadata": {},
   "outputs": [],
   "source": [
    "class Data:\n",
    "    def __init__(self,add):\n",
    "        self.add = add\n",
    "       \n",
    "    def data(self):\n",
    "        print(self.add)\n",
    "        \n",
    "class Info(Data):\n",
    "    def __init__(self,name,age,add):\n",
    "        self.name = name\n",
    "        self.age = age\n",
    "        Data.__init__(self,add)\n",
    "        \n",
    "    def info (self):\n",
    "        print(f\"Hello World I am {self.name}. I am from {self.add}. i am {self.age}\")\n",
    "\n",
    "    \n",
    "name = input(\"enter name=\")\n",
    "age = int(input(\"enter age=\"))\n",
    "add = input(\"enter add=\")\n",
    "    \n",
    "obj = Info(name,age,add)\n",
    "obj.info()\n",
    "obj.data()"
   ]
  },
  {
   "cell_type": "code",
   "execution_count": 1,
   "id": "3d3d0bcc",
   "metadata": {},
   "outputs": [
    {
     "name": "stdout",
     "output_type": "stream",
     "text": [
      "Enter name = shosika\n",
      "Enter age = 22\n",
      "Enter add = ktm\n",
      "Hello World I am shosika. I am from ktm. I am 22\n",
      "ktm\n"
     ]
    }
   ],
   "source": [
    "class Data:\n",
    "    def __init__(self,add):\n",
    "        self.add = add\n",
    "        \n",
    "    def data(self):\n",
    "        print(self.add)\n",
    "\n",
    "class Info(Data):\n",
    "    def __init__(self,name,age,add):\n",
    "        self.name = name\n",
    "        self.age = age\n",
    "        Data.__init__(self,add)\n",
    "        \n",
    "    def info(self):\n",
    "        print(f\"Hello World I am {self.name}. I am from {self.add}. I am {self.age}\")\n",
    "\n",
    "name = input(\"Enter name = \")\n",
    "age = int(input(\"Enter age = \"))\n",
    "add = input(\"Enter add = \")\n",
    "\n",
    "obj = Info(name,age,add)\n",
    "obj.info()\n",
    "obj.data()"
   ]
  },
  {
   "cell_type": "code",
   "execution_count": 2,
   "id": "2627a827",
   "metadata": {},
   "outputs": [
    {
     "name": "stdout",
     "output_type": "stream",
     "text": [
      "Enter name = simran\n",
      "Enter age = 22\n",
      "Enter add = kathmandu\n",
      "Hello World I am simran. I am from kathmandu. I am 22\n",
      "kathmandu\n",
      "22\n"
     ]
    }
   ],
   "source": [
    "class Age:\n",
    "    def __init__(self,age):\n",
    "        self.age = age\n",
    "    def my_age(self):\n",
    "        print(self.age)\n",
    "        \n",
    "class Data(Age):\n",
    "    def __init__(self,age,add):\n",
    "        self.add = add\n",
    "        Age.__init__(self,age)\n",
    "        \n",
    "    def data(self):\n",
    "        print(self.add)\n",
    "\n",
    "class Info(Data):\n",
    "    def __init__(self,name,age,add):\n",
    "        self.name = name\n",
    "        Data.__init__(self,age,add)\n",
    "        \n",
    "    def info(self):\n",
    "        print(f\"Hello World I am {self.name}. I am from {self.add}. I am {self.age}\")\n",
    "\n",
    "name = input(\"Enter name = \")\n",
    "age = int(input(\"Enter age = \"))\n",
    "add = input(\"Enter add = \")\n",
    "\n",
    "obj = Info(name,age,add)\n",
    "obj.info()\n",
    "obj.data()\n",
    "obj.my_age()"
   ]
  },
  {
   "cell_type": "code",
   "execution_count": 4,
   "id": "fe691c5e",
   "metadata": {},
   "outputs": [
    {
     "name": "stdout",
     "output_type": "stream",
     "text": [
      "Enter name = sita\n",
      "Enter age = 22\n",
      "Enter add = biratnagar\n",
      "Hello World I am sita. I am from biratnagar. I am 22\n",
      "biratnagar\n",
      "22\n"
     ]
    }
   ],
   "source": [
    "class Age:\n",
    "    def __init__(self,age):\n",
    "        self.age = age\n",
    "    def my_age(self):\n",
    "        print(self.age)\n",
    "        \n",
    "class Data:\n",
    "    def __init__(self,add):\n",
    "        self.add = add\n",
    "        \n",
    "    def data(self):\n",
    "        print(self.add)\n",
    "\n",
    "class Info(Age,Data):\n",
    "    def __init__(self,name,age,add):\n",
    "        self.name = name\n",
    "        Data.__init__(self,add)\n",
    "        Age.__init__(self,age)\n",
    "        \n",
    "    def info(self):\n",
    "        print(f\"Hello World I am {self.name}. I am from {self.add}. I am {self.age}\")\n",
    "        \n",
    "\n",
    "name = input(\"Enter name = \")\n",
    "age = int(input(\"Enter age = \"))\n",
    "add = input(\"Enter add = \")\n",
    "\n",
    "obj = Info(name,age,add)\n",
    "obj.info()\n",
    "obj.data()\n",
    "obj.my_age()"
   ]
  },
  {
   "cell_type": "code",
   "execution_count": null,
   "id": "48e99f8a",
   "metadata": {},
   "outputs": [],
   "source": []
  }
 ],
 "metadata": {
  "kernelspec": {
   "display_name": "Python 3 (ipykernel)",
   "language": "python",
   "name": "python3"
  },
  "language_info": {
   "codemirror_mode": {
    "name": "ipython",
    "version": 3
   },
   "file_extension": ".py",
   "mimetype": "text/x-python",
   "name": "python",
   "nbconvert_exporter": "python",
   "pygments_lexer": "ipython3",
   "version": "3.10.9"
  }
 },
 "nbformat": 4,
 "nbformat_minor": 5
}
