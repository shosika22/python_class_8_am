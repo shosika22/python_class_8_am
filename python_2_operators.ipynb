{
 "cells": [
  {
   "cell_type": "code",
   "execution_count": 1,
   "id": "ee341c79",
   "metadata": {},
   "outputs": [
    {
     "name": "stdout",
     "output_type": "stream",
     "text": [
      "13\n",
      "7\n",
      "30\n",
      "3.3333333333333335\n",
      "1000\n",
      "3\n"
     ]
    }
   ],
   "source": [
    "1 # + - * / % ** // \n",
    "a= 10 \n",
    "b=3\n",
    "print(a+b)\n",
    "print(a-b) \n",
    "print(a*b) \n",
    "print(a/b) \n",
    "print(a**b)\n",
    "print(a//b)"
   ]
  },
  {
   "cell_type": "code",
   "execution_count": 2,
   "id": "360659d6",
   "metadata": {},
   "outputs": [
    {
     "name": "stdout",
     "output_type": "stream",
     "text": [
      "150\n"
     ]
    }
   ],
   "source": [
    "#Area\n",
    "l=10 #pre defined value\n",
    "b=15\n",
    "a=l*b\n",
    "print(a)\n"
   ]
  },
  {
   "cell_type": "code",
   "execution_count": 5,
   "id": "7e873226",
   "metadata": {},
   "outputs": [
    {
     "name": "stdout",
     "output_type": "stream",
     "text": [
      "enter value a =10\n",
      "enter value b =5\n",
      "<class 'int'>\n",
      "<class 'int'>\n",
      "15\n"
     ]
    }
   ],
   "source": [
    "a =int(input(\"enter value a =\"))\n",
    "b = int(input(\"enter value b =\"))\n",
    "print(type(a))\n",
    "print(type(b))\n",
    "c = a+b\n",
    "print(c)\n"
   ]
  },
  {
   "cell_type": "code",
   "execution_count": 6,
   "id": "f9ab5017",
   "metadata": {},
   "outputs": [
    {
     "name": "stdout",
     "output_type": "stream",
     "text": [
      "enter value p= 1000\n",
      "enter value t= 4\n",
      "enter value r= 7\n",
      "280.0\n"
     ]
    }
   ],
   "source": [
    "#Simple Interest\n",
    "p = int(input(\"enter value p= \"))\n",
    "t = int(input(\"enter value t= \"))\n",
    "r = int(input(\"enter value r= \"))\n",
    "SI= p*t*r/100\n",
    "print(SI)\n",
    "\n"
   ]
  },
  {
   "cell_type": "code",
   "execution_count": 7,
   "id": "ae82d8a3",
   "metadata": {},
   "outputs": [
    {
     "name": "stdout",
     "output_type": "stream",
     "text": [
      "enter value p= 1000\n",
      "enter value t= 6\n",
      "enter value r= 8\n",
      "480.0\n"
     ]
    }
   ],
   "source": [
    "#Simple Interest\n",
    "p = int(input(\"enter value p= \"))\n",
    "t = float(input(\"enter value t= \"))\n",
    "r = float(input(\"enter value r= \"))\n",
    "SI= p*t*r/100\n",
    "print(SI)\n",
    "\n"
   ]
  },
  {
   "cell_type": "code",
   "execution_count": 8,
   "id": "4fa14a9a",
   "metadata": {},
   "outputs": [
    {
     "name": "stdout",
     "output_type": "stream",
     "text": [
      "Enter the total number of subjects: 8\n",
      "Enter marks for subject 1: 66\n",
      "Enter marks for subject 2: 77\n",
      "Enter marks for subject 3: 88\n",
      "Enter marks for subject 4: 88\n",
      "Enter marks for subject 5: 99\n",
      "Enter marks for subject 6: 99\n",
      "Enter marks for subject 7: 77\n",
      "Enter marks for subject 8: 66\n",
      "Total Marks: 660\n",
      "Percentage: 825.0\n"
     ]
    }
   ],
   "source": [
    "# WAP to make subject marks from user and find total and percentage\n",
    "\n",
    "total_subjects = int(input(\"Enter the total number of subjects: \"))\n",
    "\n",
    "total_marks = 0\n",
    "\n",
    "for i in range(total_subjects):\n",
    "    subject_marks = int(input(f\"Enter marks for subject {i+1}: \"))\n",
    "    total_marks += subject_marks\n",
    "\n",
    "total_max_marks = total_subjects * 10\n",
    "percentage = (total_marks / total_max_marks) * 100\n",
    "\n",
    "\n",
    "print(\"Total Marks:\", total_marks)\n",
    "print(\"Percentage:\", percentage)\n"
   ]
  }
 ],
 "metadata": {
  "kernelspec": {
   "display_name": "Python 3 (ipykernel)",
   "language": "python",
   "name": "python3"
  },
  "language_info": {
   "codemirror_mode": {
    "name": "ipython",
    "version": 3
   },
   "file_extension": ".py",
   "mimetype": "text/x-python",
   "name": "python",
   "nbconvert_exporter": "python",
   "pygments_lexer": "ipython3",
   "version": "3.10.9"
  }
 },
 "nbformat": 4,
 "nbformat_minor": 5
}
