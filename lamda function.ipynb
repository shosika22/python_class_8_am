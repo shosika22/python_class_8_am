{
 "cells": [
  {
   "cell_type": "code",
   "execution_count": null,
   "id": "f3a1f7a2",
   "metadata": {},
   "outputs": [],
   "source": [
    "#Lambda  Function"
   ]
  },
  {
   "cell_type": "code",
   "execution_count": null,
   "id": "e891ee9f",
   "metadata": {},
   "outputs": [],
   "source": [
    "# lambda <arguments>:<operation>"
   ]
  },
  {
   "cell_type": "code",
   "execution_count": 5,
   "id": "4176e8d2",
   "metadata": {},
   "outputs": [
    {
     "name": "stdout",
     "output_type": "stream",
     "text": [
      "9\n"
     ]
    }
   ],
   "source": [
    "a =lambda    x:x**2     #kunai variable defined garne ani argument pass garx\n",
    "print(a(3))              # ani operation                                     "
   ]
  },
  {
   "cell_type": "code",
   "execution_count": 10,
   "id": "b745a8f8",
   "metadata": {},
   "outputs": [
    {
     "data": {
      "text/plain": [
       "20"
      ]
     },
     "execution_count": 10,
     "metadata": {},
     "output_type": "execute_result"
    }
   ],
   "source": [
    "a =lambda    x,y:x*y    \n",
    "a(4,5)              "
   ]
  },
  {
   "cell_type": "code",
   "execution_count": null,
   "id": "9e0f1e3d",
   "metadata": {},
   "outputs": [],
   "source": [
    "#filter function\n",
    "#map function\n"
   ]
  },
  {
   "cell_type": "code",
   "execution_count": null,
   "id": "f7e10531",
   "metadata": {},
   "outputs": [],
   "source": [
    "#filter\n",
    "#filter(lambda <argument>:<condition>),list)"
   ]
  },
  {
   "cell_type": "code",
   "execution_count": 13,
   "id": "36678f45",
   "metadata": {},
   "outputs": [
    {
     "data": {
      "text/plain": [
       "[2, 4, 6, 8]"
      ]
     },
     "execution_count": 13,
     "metadata": {},
     "output_type": "execute_result"
    }
   ],
   "source": [
    "a =[1,2,3,4,5,6,7,8]\n",
    "list(filter((lambda x:x%2==0),a))"
   ]
  },
  {
   "cell_type": "code",
   "execution_count": 14,
   "id": "d3e7413d",
   "metadata": {},
   "outputs": [
    {
     "data": {
      "text/plain": [
       "['dog', 'cat']"
      ]
     },
     "execution_count": 14,
     "metadata": {},
     "output_type": "execute_result"
    }
   ],
   "source": [
    "a = [\"Apple\",\"Ball\",\"dog\",\"cat\"]\n",
    "list(filter((lambda x:x.islower()),a))"
   ]
  },
  {
   "cell_type": "code",
   "execution_count": null,
   "id": "3974c9c7",
   "metadata": {},
   "outputs": [],
   "source": [
    "#map function"
   ]
  },
  {
   "cell_type": "code",
   "execution_count": null,
   "id": "22959f65",
   "metadata": {},
   "outputs": [],
   "source": [
    "#mao((lambda<argument>:<condition>),list)"
   ]
  },
  {
   "cell_type": "code",
   "execution_count": 17,
   "id": "93e8b5ea",
   "metadata": {},
   "outputs": [
    {
     "data": {
      "text/plain": [
       "['apple', 'ball', 'cat', 'orange', 'mango']"
      ]
     },
     "execution_count": 17,
     "metadata": {},
     "output_type": "execute_result"
    }
   ],
   "source": [
    "a =[\"apple\",\"ball\",\"Cat\",\"Orange\",\"Mango\"]\n",
    "b =list(map(lambda x:x.lower(),a))\n",
    "b"
   ]
  },
  {
   "cell_type": "code",
   "execution_count": 18,
   "id": "8b20d209",
   "metadata": {},
   "outputs": [
    {
     "data": {
      "text/plain": [
       "[24000.0, 36000.0, 48000.0, 60000.0, 24000.0, 84000.0, 72000.0, 24000.0]"
      ]
     },
     "execution_count": 18,
     "metadata": {},
     "output_type": "execute_result"
    }
   ],
   "source": [
    "a =[20000,30000,40000,50000,20000,70000,60000,20000]\n",
    "b =list(map(lambda x:x*1.2,a))\n",
    "b\n"
   ]
  },
  {
   "cell_type": "code",
   "execution_count": 20,
   "id": "d9371d14",
   "metadata": {},
   "outputs": [
    {
     "ename": "SyntaxError",
     "evalue": "unmatched ']' (2405625631.py, line 1)",
     "output_type": "error",
     "traceback": [
      "\u001b[1;36m  Cell \u001b[1;32mIn[20], line 1\u001b[1;36m\u001b[0m\n\u001b[1;33m    a = i for i in range(10)]\u001b[0m\n\u001b[1;37m                            ^\u001b[0m\n\u001b[1;31mSyntaxError\u001b[0m\u001b[1;31m:\u001b[0m unmatched ']'\n"
     ]
    }
   ],
   "source": [
    "a = [i for i in range(10)]\n",
    "a"
   ]
  },
  {
   "cell_type": "code",
   "execution_count": 21,
   "id": "03e5397a",
   "metadata": {},
   "outputs": [
    {
     "name": "stdout",
     "output_type": "stream",
     "text": [
      "enter value =2\n",
      "enter value =3\n",
      "enter value =4\n",
      "enter value =5\n",
      "enter value =6\n"
     ]
    },
    {
     "data": {
      "text/plain": [
       "[2, 3, 4, 5, 6]"
      ]
     },
     "execution_count": 21,
     "metadata": {},
     "output_type": "execute_result"
    }
   ],
   "source": [
    "a =[int(input(\"enter value =\")) for i in range(5)]\n",
    "a"
   ]
  },
  {
   "cell_type": "code",
   "execution_count": 25,
   "id": "7a6e4095",
   "metadata": {},
   "outputs": [
    {
     "name": "stdout",
     "output_type": "stream",
     "text": [
      "enter value=2\n",
      "enter value=7\n",
      "enter value=8\n",
      "enter value=9\n",
      "enter value=10\n"
     ]
    }
   ],
   "source": [
    "a = sum([int(input(\"enter value=\")) for i in range(5)])"
   ]
  },
  {
   "cell_type": "code",
   "execution_count": 26,
   "id": "d2c22a9f",
   "metadata": {},
   "outputs": [
    {
     "name": "stdout",
     "output_type": "stream",
     "text": [
      "enter name=shosika\n",
      "enter phone =98653345566\n",
      "enter name=simram\n",
      "enter phone =7688876432222\n",
      "enter name=soso\n",
      "enter phone =765433466\n",
      "enter name=shikak\n",
      "enter phone =8888888888888888\n",
      "enter name=ssss\n",
      "enter phone =rgtyyyy\n",
      "{'shosika': '98653345566', 'simram': '7688876432222', 'soso': '765433466', 'shikak': '8888888888888888', 'ssss': 'rgtyyyy'}\n"
     ]
    }
   ],
   "source": [
    "a ={input(\"enter name=\"):input(\"enter phone =\")for i in range(5)}\n",
    "print(a)"
   ]
  },
  {
   "cell_type": "code",
   "execution_count": 28,
   "id": "6f648afa",
   "metadata": {},
   "outputs": [
    {
     "data": {
      "text/plain": [
       "{1: 1, 2: 4, 3: 9, 4: 16, 5: 25, 6: 36, 7: 49, 8: 64}"
      ]
     },
     "execution_count": 28,
     "metadata": {},
     "output_type": "execute_result"
    }
   ],
   "source": [
    "x =[1,2,3,4,5,5,6,7,7,8,8,6,5]\n",
    "a ={i:i**2 for i in x}\n",
    "a"
   ]
  },
  {
   "cell_type": "code",
   "execution_count": null,
   "id": "8dde7bb1",
   "metadata": {},
   "outputs": [],
   "source": []
  }
 ],
 "metadata": {
  "kernelspec": {
   "display_name": "Python 3 (ipykernel)",
   "language": "python",
   "name": "python3"
  },
  "language_info": {
   "codemirror_mode": {
    "name": "ipython",
    "version": 3
   },
   "file_extension": ".py",
   "mimetype": "text/x-python",
   "name": "python",
   "nbconvert_exporter": "python",
   "pygments_lexer": "ipython3",
   "version": "3.10.9"
  }
 },
 "nbformat": 4,
 "nbformat_minor": 5
}
