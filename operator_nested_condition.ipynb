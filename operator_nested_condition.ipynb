{
 "cells": [
  {
   "cell_type": "code",
   "execution_count": null,
   "id": "b9e0b185",
   "metadata": {},
   "outputs": [],
   "source": [
    "# if condition>:\n",
    "#     if<condition>:\n",
    "#         <operation>\n",
    "#     else:\n",
    "#         <condition>\n",
    "\n",
    "# else:\n",
    "#     <operation>"
   ]
  },
  {
   "cell_type": "code",
   "execution_count": 2,
   "id": "edc1d46d",
   "metadata": {},
   "outputs": [
    {
     "ename": "SyntaxError",
     "evalue": "expected ':' (3701960994.py, line 17)",
     "output_type": "error",
     "traceback": [
      "\u001b[1;36m  Cell \u001b[1;32mIn[2], line 17\u001b[1;36m\u001b[0m\n\u001b[1;33m    else percentage >= 80:\u001b[0m\n\u001b[1;37m         ^\u001b[0m\n\u001b[1;31mSyntaxError\u001b[0m\u001b[1;31m:\u001b[0m expected ':'\n"
     ]
    }
   ],
   "source": [
    " #Taking input for subject marks\n",
    "math = int(input(\"Enter Math marks: \"))\n",
    "science = float(input(\"Enter Science marks: \"))\n",
    "english = int(input(\"Enter English marks: \"))\n",
    "nepali= int(input(\"Enter Nepali marks: \"))\n",
    "social = int(input(\"Enter Social marks: \"))\n",
    "\n",
    "# Calculating total marks\n",
    "marks = math + science + english + nepali + social\n",
    "\n",
    "# Calculating percentage\n",
    "percentage = (marks / 500) * 100\n",
    "\n",
    "# Determining grade based on percentage\n",
    "if percentage >= 90:\n",
    "    grade = 'A+'\n",
    "else percentage >= 80:\n",
    "    grade = 'A'\n",
    "if percentage >= 70:\n",
    "    grade = 'B'\n",
    "else percentage >= 60:\n",
    "    grade = 'C'\n",
    "if percentage >= 50:\n",
    "    grade = 'D'\n",
    "else:\n",
    "    grade = 'Fail'\n",
    "\n",
    "# Printing total marks, percentage, and grade\n",
    "print(\"Total Marks:\", marks)\n",
    "print(\"Percentage:\", percentage)\n",
    "print(\"Grade:\", grade)\n",
    " "
   ]
  },
  {
   "cell_type": "code",
   "execution_count": 6,
   "id": "650370a7",
   "metadata": {},
   "outputs": [
    {
     "name": "stdout",
     "output_type": "stream",
     "text": [
      "enter x =1\n",
      "the value is +ve and odd\n"
     ]
    }
   ],
   "source": [
    "x =int(input(\"enter x =\"))\n",
    "if x >=0:\n",
    "    if x % 2==0:\n",
    "        print(\"the value is +ve and even\")\n",
    "    else:\n",
    "        print(\"the value is +ve and odd\")\n",
    "else:\n",
    "    if x % 2 ==0:\n",
    "        print(\"the value is -ve and even\")\n",
    "    else:\n",
    "        print(\"the value is -ve odd\")\n",
    "            \n",
    "            "
   ]
  },
  {
   "cell_type": "code",
   "execution_count": null,
   "id": "654393a1",
   "metadata": {},
   "outputs": [],
   "source": [
    "# and or not condition"
   ]
  },
  {
   "cell_type": "code",
   "execution_count": 7,
   "id": "09a2ffcd",
   "metadata": {},
   "outputs": [
    {
     "name": "stdout",
     "output_type": "stream",
     "text": [
      "True\n",
      "True\n",
      "True\n",
      "False\n"
     ]
    }
   ],
   "source": [
    "### or\n",
    "print(True or True)\n",
    "print(True or False)\n",
    "print(False or True)\n",
    "print(False or False)\n"
   ]
  },
  {
   "cell_type": "code",
   "execution_count": 8,
   "id": "5f26764a",
   "metadata": {},
   "outputs": [
    {
     "name": "stdout",
     "output_type": "stream",
     "text": [
      "True\n",
      "False\n",
      "False\n",
      "False\n"
     ]
    }
   ],
   "source": [
    " ### and\n",
    "print(True and True)\n",
    "print(True and False)\n",
    "print(False and True)\n",
    "print(False and False)\n"
   ]
  },
  {
   "cell_type": "code",
   "execution_count": 14,
   "id": "b65aa704",
   "metadata": {},
   "outputs": [
    {
     "name": "stdout",
     "output_type": "stream",
     "text": [
      "enter physics=22\n",
      "enter math=22\n",
      "enter biology=22\n",
      "enter chemistry=22\n",
      "enter english=22\n",
      "Total marks = NAN\n",
      "per= 85.8\n",
      "Grade= F\n"
     ]
    }
   ],
   "source": [
    "physics=int(input(\"enter physics=\"))       \n",
    "math=int(input(\"enter math=\"))\n",
    "biology=int(input(\"enter biology=\"))\n",
    "chemistry=int(input(\"enter chemistry=\"))\n",
    "english=int(input(\"enter english=\"))\n",
    "\n",
    "if  physics>=32 and math>=32 and  biology>=32 and chemistry>=32 and english>=32:\n",
    "    total =physics +math + biology+ chemistry + english\n",
    "    per =total/ 5\n",
    "    if per>=80:\n",
    "        grade = 'A'       \n",
    "    elif per>=60:\n",
    "        grade= 'B'   \n",
    "    elif grade>=45:\n",
    "         grade>='C'\n",
    "    else:\n",
    "         grade ='D'\n",
    "else:\n",
    "    \n",
    "    grade = 'F'\n",
    "    total=\"NAN\"\n",
    "    Per = \"NAN\"\n",
    "print(\"Total marks =\",total)\n",
    "print(\"per=\",per)\n",
    "print(\"Grade=\",grade)\n",
    "\n",
    "\n"
   ]
  },
  {
   "cell_type": "markdown",
   "id": "d5b21ab9",
   "metadata": {},
   "source": [
    "# Wap to  make basis  calculator\n",
    "\n"
   ]
  },
  {
   "cell_type": "code",
   "execution_count": 4,
   "id": "8d0a9255",
   "metadata": {},
   "outputs": [
    {
     "ename": "SyntaxError",
     "evalue": "invalid syntax (480113820.py, line 11)",
     "output_type": "error",
     "traceback": [
      "\u001b[1;36m  Cell \u001b[1;32mIn[4], line 11\u001b[1;36m\u001b[0m\n\u001b[1;33m    elif o =='/' and  y|==0:\u001b[0m\n\u001b[1;37m                       ^\u001b[0m\n\u001b[1;31mSyntaxError\u001b[0m\u001b[1;31m:\u001b[0m invalid syntax\n"
     ]
    }
   ],
   "source": [
    "x =int(input(\"enter  x= \"))\n",
    "y= int(input(\"enter y=\"))\n",
    "o= input(\"enter  + or - or  * or / \")\n",
    "if o== \"+\":\n",
    "    print(x + y)\n",
    "elif  o == \"-\":\n",
    "    print(x - y)\n",
    "elif 0 ==\"*\":\n",
    "    print(\"x *y\")\n",
    "    \n",
    "elif o =='/' and  y|==0:\n",
    "    print(\"the value of y can not be zero\")\n",
    "else:\n",
    "    print(\"invalid operator\")\n"
   ]
  },
  {
   "cell_type": "code",
   "execution_count": null,
   "id": "403be02c",
   "metadata": {},
   "outputs": [],
   "source": []
  }
 ],
 "metadata": {
  "kernelspec": {
   "display_name": "Python 3 (ipykernel)",
   "language": "python",
   "name": "python3"
  },
  "language_info": {
   "codemirror_mode": {
    "name": "ipython",
    "version": 3
   },
   "file_extension": ".py",
   "mimetype": "text/x-python",
   "name": "python",
   "nbconvert_exporter": "python",
   "pygments_lexer": "ipython3",
   "version": "3.10.9"
  }
 },
 "nbformat": 4,
 "nbformat_minor": 5
}
