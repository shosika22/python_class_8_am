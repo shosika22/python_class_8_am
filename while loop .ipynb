{
 "cells": [
  {
   "cell_type": "code",
   "execution_count": null,
   "id": "ebedb05d",
   "metadata": {},
   "outputs": [],
   "source": [
    "#While loop\n"
   ]
  },
  {
   "cell_type": "code",
   "execution_count": null,
   "id": "c1cd6eeb",
   "metadata": {},
   "outputs": [],
   "source": [
    "while <condition>\n",
    "# <operation>\n"
   ]
  },
  {
   "cell_type": "code",
   "execution_count": 2,
   "id": "5df9f247",
   "metadata": {},
   "outputs": [
    {
     "name": "stdout",
     "output_type": "stream",
     "text": [
      "hello world\n",
      "hello world\n",
      "hello world\n",
      "hello world\n",
      "hello world\n"
     ]
    }
   ],
   "source": [
    "a = 0\n",
    "while a<5:\n",
    "    print(\"hello world\")\n",
    "    a =a +1"
   ]
  },
  {
   "cell_type": "code",
   "execution_count": 9,
   "id": "4531d09e",
   "metadata": {},
   "outputs": [
    {
     "name": "stdout",
     "output_type": "stream",
     "text": [
      "enter the value of x=1\n",
      "1 * 1 = 1\n",
      "1 * 2 = 2\n",
      "1 * 3 = 3\n",
      "1 * 4 = 4\n",
      "1 * 5 = 5\n",
      "1 * 6 = 6\n",
      "1 * 7 = 7\n",
      "1 * 8 = 8\n",
      "1 * 9 = 9\n"
     ]
    }
   ],
   "source": [
    "i =1\n",
    "x = int (input(\"enter the value of x=\"))\n",
    "while i<10:\n",
    "    \n",
    "    print( x, \"*\", i,\"=\", i*x)\n",
    "    i =i + 1"
   ]
  },
  {
   "cell_type": "code",
   "execution_count": 15,
   "id": "22978397",
   "metadata": {},
   "outputs": [
    {
     "name": "stdout",
     "output_type": "stream",
     "text": [
      "enter n=5\n",
      "1\n",
      "2\n",
      "6\n",
      "24\n",
      "120\n"
     ]
    }
   ],
   "source": [
    "i = 1\n",
    "fac =1\n",
    "n = int(input(\"enter n=\")) \n",
    "while i<=n:\n",
    "    fac = fac*i\n",
    "    i = i + 1\n",
    "    print(fac)"
   ]
  },
  {
   "cell_type": "code",
   "execution_count": 18,
   "id": "a1f29e5e",
   "metadata": {},
   "outputs": [
    {
     "name": "stdout",
     "output_type": "stream",
     "text": [
      "number of items= 2\n",
      "Name of item= dd\n",
      "price of item= 33\n",
      "Number of quantity= 2\n"
     ]
    },
    {
     "ename": "NameError",
     "evalue": "name 'total' is not defined",
     "output_type": "error",
     "traceback": [
      "\u001b[1;31m---------------------------------------------------------------------------\u001b[0m",
      "\u001b[1;31mNameError\u001b[0m                                 Traceback (most recent call last)",
      "Cell \u001b[1;32mIn[18], line 10\u001b[0m\n\u001b[0;32m      8\u001b[0m quantity\u001b[38;5;241m=\u001b[39m \u001b[38;5;28mint\u001b[39m(\u001b[38;5;28minput\u001b[39m(\u001b[38;5;124m\"\u001b[39m\u001b[38;5;124mNumber of quantity= \u001b[39m\u001b[38;5;124m\"\u001b[39m))\n\u001b[0;32m      9\u001b[0m individual_total \u001b[38;5;241m=\u001b[39m price\u001b[38;5;241m*\u001b[39mquantity\n\u001b[1;32m---> 10\u001b[0m bill\u001b[38;5;241m=\u001b[39mbill\u001b[38;5;241m+\u001b[39m name \u001b[38;5;241m+\u001b[39m \u001b[38;5;124m\"\u001b[39m\u001b[38;5;124m \u001b[39m\u001b[38;5;124m\"\u001b[39m \u001b[38;5;241m+\u001b[39m \u001b[38;5;28mstr\u001b[39m(price) \u001b[38;5;241m+\u001b[39m \u001b[38;5;124m\"\u001b[39m\u001b[38;5;124m \u001b[39m\u001b[38;5;124m\"\u001b[39m \u001b[38;5;241m+\u001b[39m \u001b[38;5;28mstr\u001b[39m(quantity) \u001b[38;5;241m+\u001b[39m \u001b[38;5;124m\"\u001b[39m\u001b[38;5;124m \u001b[39m\u001b[38;5;124m\"\u001b[39m \u001b[38;5;241m+\u001b[39m\u001b[38;5;28mstr\u001b[39m(\u001b[43mtotal\u001b[49m)\u001b[38;5;241m+\u001b[39m\u001b[38;5;124m\"\u001b[39m\u001b[38;5;130;01m\\n\u001b[39;00m\u001b[38;5;124m\"\u001b[39m\n\u001b[0;32m     11\u001b[0m all_total \u001b[38;5;241m=\u001b[39m all_total \u001b[38;5;241m+\u001b[39m total\n\u001b[0;32m     12\u001b[0m i \u001b[38;5;241m=\u001b[39m i \u001b[38;5;241m+\u001b[39m\u001b[38;5;241m1\u001b[39m\n",
      "\u001b[1;31mNameError\u001b[0m: name 'total' is not defined"
     ]
    }
   ],
   "source": [
    "i =0\n",
    "bill=str()\n",
    "all_total =0\n",
    "n=int(input(\"number of items= \"))\n",
    "while i <=n:\n",
    "    name= input(\"Name of item= \")\n",
    "    price= int(input(\"price of item= \"))\n",
    "    quantity= int(input(\"Number of quantity= \"))\n",
    "    individual_total = price*quantity\n",
    "    bill=bill+ name + \" \" + str(price) + \" \" + str(quantity) + \" \" +str(total)+\"\\n\"\n",
    "    all_total = all_total + total\n",
    "    i = i +1\n",
    "    \n",
    "print(bill)\n",
    "print( all_total)"
   ]
  },
  {
   "cell_type": "code",
   "execution_count": 20,
   "id": "137213ae",
   "metadata": {},
   "outputs": [
    {
     "name": "stdout",
     "output_type": "stream",
     "text": [
      "0\n",
      "1\n",
      "2\n",
      "3\n",
      "4\n"
     ]
    }
   ],
   "source": [
    "#Break in while\n",
    "i = 0\n",
    "while i<=10:\n",
    "    if i ==5:\n",
    "        break\n",
    "    print(i)\n",
    "    i =i +1"
   ]
  },
  {
   "cell_type": "code",
   "execution_count": 3,
   "id": "5938a8d7",
   "metadata": {},
   "outputs": [
    {
     "name": "stdout",
     "output_type": "stream",
     "text": [
      "0 1 2 3 4 6 7 8 9 10 "
     ]
    }
   ],
   "source": [
    "#continue in while  \n",
    "i=0\n",
    "while i <=10:\n",
    "    if i ==5:\n",
    "        i = i +1\n",
    "        continue\n",
    "        \n",
    "    print(i, end=\" \")\n",
    "    i =i + 1"
   ]
  },
  {
   "cell_type": "code",
   "execution_count": null,
   "id": "74e8b0d9",
   "metadata": {},
   "outputs": [],
   "source": [
    "#WAP to find if the given no is prime or composite"
   ]
  },
  {
   "cell_type": "code",
   "execution_count": null,
   "id": "1889aafc",
   "metadata": {},
   "outputs": [],
   "source": []
  },
  {
   "cell_type": "code",
   "execution_count": null,
   "id": "783896db",
   "metadata": {},
   "outputs": [],
   "source": []
  }
 ],
 "metadata": {
  "kernelspec": {
   "display_name": "Python 3 (ipykernel)",
   "language": "python",
   "name": "python3"
  },
  "language_info": {
   "codemirror_mode": {
    "name": "ipython",
    "version": 3
   },
   "file_extension": ".py",
   "mimetype": "text/x-python",
   "name": "python",
   "nbconvert_exporter": "python",
   "pygments_lexer": "ipython3",
   "version": "3.10.9"
  }
 },
 "nbformat": 4,
 "nbformat_minor": 5
}
