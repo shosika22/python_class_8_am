{
 "cells": [
  {
   "cell_type": "code",
   "execution_count": null,
   "id": "b70b14f1",
   "metadata": {},
   "outputs": [],
   "source": [
    "a ={'name': ['shosika', 'shova'],'age': [22, 48], 'add': ['ktm', 'bhktpr']}\n",
    "\n",
    "index = int(input(\"enter index = \"))\n",
    "for i in a:\n",
    "    x = input(f\"enter{i}\")\n",
    "    a[i][index] = x\n",
    "    \n",
    "print(a)"
   ]
  },
  {
   "cell_type": "code",
   "execution_count": 2,
   "id": "9c749d41",
   "metadata": {},
   "outputs": [
    {
     "ename": "SyntaxError",
     "evalue": "unterminated string literal (detected at line 4) (660542191.py, line 4)",
     "output_type": "error",
     "traceback": [
      "\u001b[1;36m  Cell \u001b[1;32mIn[2], line 4\u001b[1;36m\u001b[0m\n\u001b[1;33m    {'name': 'Hari,   'age'  : 29, 'add':'lilitpur'}]\u001b[0m\n\u001b[1;37m                                                  ^\u001b[0m\n\u001b[1;31mSyntaxError\u001b[0m\u001b[1;31m:\u001b[0m unterminated string literal (detected at line 4)\n"
     ]
    }
   ],
   "source": [
    "#dict inside list\n",
    "l=[{'name': 'Ram',  'age'  : 23, 'add':'kathmandu'}\n",
    "  {'name': 'shyam', 'age': 33, 'add':'bhaktapur'}\n",
    "  {'name': 'Hari,   'age'  : 29, 'add':'lilitpur'}]\n",
    "l"
   ]
  },
  {
   "cell_type": "code",
   "execution_count": 6,
   "id": "4e1422b4",
   "metadata": {},
   "outputs": [
    {
     "name": "stdout",
     "output_type": "stream",
     "text": [
      "enter n =1\n",
      "enter name=shosika\n",
      "enter age22\n",
      "enter add=ktm\n",
      "[]\n"
     ]
    }
   ],
   "source": [
    "l=[]\n",
    "n =int(input(\"enter n =\"))\n",
    "for i in range(n):\n",
    "    name =input(\"enter name=\")\n",
    "    age = int(input(\"enter age\"))\n",
    "    add=input(\"enter add=\")\n",
    "    d ={'name':name,'age':age,'add':add}\n",
    "    l.append\n",
    "print(l)"
   ]
  },
  {
   "cell_type": "code",
   "execution_count": null,
   "id": "338d3d79",
   "metadata": {},
   "outputs": [],
   "source": [
    "#wap to update delete read to the program"
   ]
  },
  {
   "cell_type": "code",
   "execution_count": null,
   "id": "51e51da0",
   "metadata": {},
   "outputs": [],
   "source": [
    "#dict inside dict\n",
    "d={1:{'name': 'Ram',  'age'  : 23, 'add':'kathmandu'},\n",
    "   2:{'name': 'Ram',  'age'  : 23, 'add':'kathmandu},\n",
    "   3:{'name': 'Ram',  'age'  : 23, 'add':'kathmandu}\n",
    "  }"
   ]
  }
 ],
 "metadata": {
  "kernelspec": {
   "display_name": "Python 3 (ipykernel)",
   "language": "python",
   "name": "python3"
  },
  "language_info": {
   "codemirror_mode": {
    "name": "ipython",
    "version": 3
   },
   "file_extension": ".py",
   "mimetype": "text/x-python",
   "name": "python",
   "nbconvert_exporter": "python",
   "pygments_lexer": "ipython3",
   "version": "3.10.9"
  }
 },
 "nbformat": 4,
 "nbformat_minor": 5
}
